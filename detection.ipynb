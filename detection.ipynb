{
 "cells": [
  {
   "cell_type": "markdown",
   "metadata": {
    "id": "cDHX6GWx4zzN",
    "tags": []
   },
   "source": [
    "# 📡 Sarcasm detector"
   ]
  },
  {
   "cell_type": "markdown",
   "metadata": {
    "id": "p508hLaD4zzR"
   },
   "source": [
    "Dataset original source:\n",
    "\n",
    "- [Kaggle](https://www.kaggle.com/datasets/rmisra/news-headlines-dataset-for-sarcasm-detection)\n",
    "\n",
    "Build a predictive model\n",
    "\n",
    "- Compare: NB, KNN, SVM\n",
    "\n",
    "Theorical sources\n",
    "\n",
    "- [NB](https://en.wikipedia.org/wiki/Naive_Bayes_classifier)\n",
    "- [KNN](https://www.codecademy.com/learn/introduction-to-supervised-learning-skill-path/modules/k-nearest-neighbors-skill-path/cheatsheet)\n",
    "- [SVM](https://es.wikipedia.org/wiki/M%C3%A1quinas_de_vectores_de_soporte)\n",
    "- [ROC curve](https://stackabuse.com/understanding-roc-curves-with-python/)\n",
    "\n",
    "Sklearn references\n",
    "\n",
    "- [Column Transformer](https://scikit-learn.org/stable/modules/generated/sklearn.compose.make_column_transformer.html)\n",
    "- [One Hot Encoder](https://datagy.io/sklearn-one-hot-encode/)\n",
    "- [Text feature extraction](https://scikit-learn.org/stable/modules/feature_extraction.html#text-feature-extraction)\n",
    "- [NB](https://scikit-learn.org/stable/modules/naive_bayes.html)\n",
    "- [KNN](https://scikit-learn.org/stable/modules/generated/sklearn.neighbors.KNeighborsClassifier.html)\n",
    "- [SVM](https://scikit-learn.org/stable/modules/generated/sklearn.svm.SVC.html)\n",
    "- [ROC curve](https://scikit-learn.org/stable/modules/generated/sklearn.metrics.RocCurveDisplay.html)\n",
    "- [Hyper parameter tunning](https://medium.com/@kocur4d/hyper-parameter-tuning-with-pipelines-5310aff069d6)"
   ]
  },
  {
   "cell_type": "markdown",
   "metadata": {
    "id": "I3OYFWxF3Xmv"
   },
   "source": [
    "## 🏷 Table of content\n",
    "* [Libraries](#libraries)\n",
    "* [The data](#the-data)\n",
    "* [Exploratory data analysis](#exploratory-data-analysis)\n",
    "* [How to vectorize text](#how-to-vectorize-text)\n",
    "* [End to end modeling](#end-to-end-modeling)\n",
    "* [Conclusions](#conclusions)"
   ]
  },
  {
   "cell_type": "markdown",
   "metadata": {
    "id": "M2KJcP0-4zzS",
    "tags": []
   },
   "source": [
    "## 📝 Libraries <a class=\"anchor\" id=\"libraries\"></a>"
   ]
  },
  {
   "cell_type": "code",
   "execution_count": 1,
   "metadata": {
    "colab": {
     "base_uri": "https://localhost:8080/"
    },
    "id": "RH2PBgaH4zzS",
    "outputId": "19e3d68f-5c6e-4641-dd24-0f655c2ec5bb"
   },
   "outputs": [
    {
     "name": "stdout",
     "output_type": "stream",
     "text": [
      "There is a notebook session saved in the environment\n"
     ]
    }
   ],
   "source": [
    "import pandas as pd\n",
    "import numpy as np\n",
    "import matplotlib.pyplot as plt\n",
    "import seaborn as sns\n",
    "import re\n",
    "import string\n",
    "from wordcloud import WordCloud\n",
    "import scipy\n",
    "from time import time\n",
    "import os\n",
    "\n",
    "import nltk \n",
    "# IMPORNTANT: install this the first time\n",
    "# nltk.download('stopwords')\n",
    "# nltk.download('wordnet')\n",
    "# nltk.download('omw-1.4')\n",
    "\n",
    "import dill as picker\n",
    "\n",
    "if os.path.exists('notebook_env.db'):\n",
    "    print('There is a notebook session saved in the environment')\n",
    "\n",
    "import warnings\n",
    "warnings.filterwarnings('ignore')"
   ]
  },
  {
   "cell_type": "markdown",
   "metadata": {
    "id": "HjdiHzCB4zzT",
    "tags": []
   },
   "source": [
    "## 🔡 The data <a class=\"anchor\" id=\"the-data\"></a>"
   ]
  },
  {
   "cell_type": "code",
   "execution_count": 2,
   "metadata": {
    "id": "pmuNjTBz4zzU"
   },
   "outputs": [],
   "source": [
    "dataset_name = 'Sarcasm_Headlines_Dataset.json'\n",
    "X_a = pd.read_json(dataset_name, lines=True)"
   ]
  },
  {
   "cell_type": "code",
   "execution_count": 3,
   "metadata": {
    "colab": {
     "base_uri": "https://localhost:8080/",
     "height": 206
    },
    "id": "fBHdPkyG4zzU",
    "outputId": "d438e565-131f-497d-936a-49a8f36ed4c7"
   },
   "outputs": [
    {
     "data": {
      "text/html": [
       "<div>\n",
       "<style scoped>\n",
       "    .dataframe tbody tr th:only-of-type {\n",
       "        vertical-align: middle;\n",
       "    }\n",
       "\n",
       "    .dataframe tbody tr th {\n",
       "        vertical-align: top;\n",
       "    }\n",
       "\n",
       "    .dataframe thead th {\n",
       "        text-align: right;\n",
       "    }\n",
       "</style>\n",
       "<table border=\"1\" class=\"dataframe\">\n",
       "  <thead>\n",
       "    <tr style=\"text-align: right;\">\n",
       "      <th></th>\n",
       "      <th>article_link</th>\n",
       "      <th>headline</th>\n",
       "      <th>is_sarcastic</th>\n",
       "    </tr>\n",
       "  </thead>\n",
       "  <tbody>\n",
       "    <tr>\n",
       "      <th>0</th>\n",
       "      <td>https://www.huffingtonpost.com/entry/versace-b...</td>\n",
       "      <td>former versace store clerk sues over secret 'b...</td>\n",
       "      <td>0</td>\n",
       "    </tr>\n",
       "    <tr>\n",
       "      <th>1</th>\n",
       "      <td>https://www.huffingtonpost.com/entry/roseanne-...</td>\n",
       "      <td>the 'roseanne' revival catches up to our thorn...</td>\n",
       "      <td>0</td>\n",
       "    </tr>\n",
       "    <tr>\n",
       "      <th>2</th>\n",
       "      <td>https://local.theonion.com/mom-starting-to-fea...</td>\n",
       "      <td>mom starting to fear son's web series closest ...</td>\n",
       "      <td>1</td>\n",
       "    </tr>\n",
       "    <tr>\n",
       "      <th>3</th>\n",
       "      <td>https://politics.theonion.com/boehner-just-wan...</td>\n",
       "      <td>boehner just wants wife to listen, not come up...</td>\n",
       "      <td>1</td>\n",
       "    </tr>\n",
       "    <tr>\n",
       "      <th>4</th>\n",
       "      <td>https://www.huffingtonpost.com/entry/jk-rowlin...</td>\n",
       "      <td>j.k. rowling wishes snape happy birthday in th...</td>\n",
       "      <td>0</td>\n",
       "    </tr>\n",
       "  </tbody>\n",
       "</table>\n",
       "</div>"
      ],
      "text/plain": [
       "                                        article_link  \\\n",
       "0  https://www.huffingtonpost.com/entry/versace-b...   \n",
       "1  https://www.huffingtonpost.com/entry/roseanne-...   \n",
       "2  https://local.theonion.com/mom-starting-to-fea...   \n",
       "3  https://politics.theonion.com/boehner-just-wan...   \n",
       "4  https://www.huffingtonpost.com/entry/jk-rowlin...   \n",
       "\n",
       "                                            headline  is_sarcastic  \n",
       "0  former versace store clerk sues over secret 'b...             0  \n",
       "1  the 'roseanne' revival catches up to our thorn...             0  \n",
       "2  mom starting to fear son's web series closest ...             1  \n",
       "3  boehner just wants wife to listen, not come up...             1  \n",
       "4  j.k. rowling wishes snape happy birthday in th...             0  "
      ]
     },
     "execution_count": 3,
     "metadata": {},
     "output_type": "execute_result"
    }
   ],
   "source": [
    "X_a.head()"
   ]
  },
  {
   "cell_type": "markdown",
   "metadata": {
    "id": "22msp2ay4zzV",
    "tags": []
   },
   "source": [
    "## 🕵 Exploratory data analysis <a class=\"anchor\" id=\"exploratory-data-analysis\"></a>"
   ]
  },
  {
   "cell_type": "code",
   "execution_count": 4,
   "metadata": {
    "colab": {
     "base_uri": "https://localhost:8080/"
    },
    "id": "VK5oGj-U4zzV",
    "outputId": "68111cbb-a3d8-4cac-d768-df1d08c83cd7"
   },
   "outputs": [
    {
     "data": {
      "text/plain": [
       "(26709, 3)"
      ]
     },
     "execution_count": 4,
     "metadata": {},
     "output_type": "execute_result"
    }
   ],
   "source": [
    "X_a.shape"
   ]
  },
  {
   "cell_type": "code",
   "execution_count": 5,
   "metadata": {
    "colab": {
     "base_uri": "https://localhost:8080/"
    },
    "id": "jDRY498l4zzW",
    "outputId": "d1902f5d-3836-49a1-8710-e85b5413b364"
   },
   "outputs": [
    {
     "name": "stdout",
     "output_type": "stream",
     "text": [
      "<class 'pandas.core.frame.DataFrame'>\n",
      "RangeIndex: 26709 entries, 0 to 26708\n",
      "Data columns (total 3 columns):\n",
      " #   Column        Non-Null Count  Dtype \n",
      "---  ------        --------------  ----- \n",
      " 0   article_link  26709 non-null  object\n",
      " 1   headline      26709 non-null  object\n",
      " 2   is_sarcastic  26709 non-null  int64 \n",
      "dtypes: int64(1), object(2)\n",
      "memory usage: 626.1+ KB\n"
     ]
    }
   ],
   "source": [
    "X_a.info()"
   ]
  },
  {
   "cell_type": "code",
   "execution_count": 6,
   "metadata": {
    "colab": {
     "base_uri": "https://localhost:8080/"
    },
    "id": "WHMI_t-m4zzW",
    "outputId": "f0a83eed-fc6d-47ad-b7da-a32e422871ed"
   },
   "outputs": [
    {
     "data": {
      "text/plain": [
       "article_link    0\n",
       "headline        0\n",
       "is_sarcastic    0\n",
       "dtype: int64"
      ]
     },
     "execution_count": 6,
     "metadata": {},
     "output_type": "execute_result"
    }
   ],
   "source": [
    "X_a.isna().sum()"
   ]
  },
  {
   "cell_type": "markdown",
   "metadata": {
    "id": "4sqJTlHd4zzW"
   },
   "source": [
    "### Get ride of duplicated headlines"
   ]
  },
  {
   "cell_type": "code",
   "execution_count": 7,
   "metadata": {
    "colab": {
     "base_uri": "https://localhost:8080/"
    },
    "id": "ELmG8MIC4zzW",
    "outputId": "d0f2bca2-5e79-429c-b8e5-77db772bc9fe"
   },
   "outputs": [
    {
     "data": {
      "text/plain": [
       "107"
      ]
     },
     "execution_count": 7,
     "metadata": {},
     "output_type": "execute_result"
    }
   ],
   "source": [
    "X_a['headline'].duplicated().sum()"
   ]
  },
  {
   "cell_type": "code",
   "execution_count": 8,
   "metadata": {
    "colab": {
     "base_uri": "https://localhost:8080/"
    },
    "id": "_VyWlisz4zzW",
    "outputId": "0f431b14-d071-4db1-a48b-d58c6418394e"
   },
   "outputs": [
    {
     "data": {
      "text/plain": [
       "Int64Index([ 1091,  2265,  2975,  3802,  4605,  5154,  5789,  6383,  6642,\n",
       "             6685,\n",
       "            ...\n",
       "            25115, 25118, 25855, 25995, 26026, 26121, 26156, 26353, 26500,\n",
       "            26615],\n",
       "           dtype='int64', length=107)"
      ]
     },
     "execution_count": 8,
     "metadata": {},
     "output_type": "execute_result"
    }
   ],
   "source": [
    "X_a[X_a['headline'].duplicated()].index"
   ]
  },
  {
   "cell_type": "code",
   "execution_count": 9,
   "metadata": {
    "id": "AgcMQ7Go4zzX"
   },
   "outputs": [],
   "source": [
    "X_a = X_a.drop(X_a[X_a['headline'].duplicated()].index, axis=0)"
   ]
  },
  {
   "cell_type": "code",
   "execution_count": 10,
   "metadata": {
    "colab": {
     "base_uri": "https://localhost:8080/"
    },
    "id": "ZdP6qzpg4zzX",
    "outputId": "7faac78a-a12d-46b4-e42b-25dfcded4c72"
   },
   "outputs": [
    {
     "data": {
      "text/plain": [
       "0"
      ]
     },
     "execution_count": 10,
     "metadata": {},
     "output_type": "execute_result"
    }
   ],
   "source": [
    "X_a['headline'].duplicated().sum()"
   ]
  },
  {
   "cell_type": "code",
   "execution_count": 11,
   "metadata": {
    "colab": {
     "base_uri": "https://localhost:8080/"
    },
    "id": "TcBywZNu4zzX",
    "outputId": "bc8a4622-46ef-47ae-b328-124bb7996795"
   },
   "outputs": [
    {
     "data": {
      "text/plain": [
       "(26602, 3)"
      ]
     },
     "execution_count": 11,
     "metadata": {},
     "output_type": "execute_result"
    }
   ],
   "source": [
    "X_a.shape"
   ]
  },
  {
   "cell_type": "markdown",
   "metadata": {
    "id": "Kr_lVkaZ3Xmy",
    "tags": []
   },
   "source": [
    "### Get ride of duplicate features"
   ]
  },
  {
   "cell_type": "markdown",
   "metadata": {
    "id": "i0HRjigg4zzX"
   },
   "source": [
    "#### The transmitter"
   ]
  },
  {
   "cell_type": "code",
   "execution_count": 12,
   "metadata": {
    "id": "JWBOtt_94zzX"
   },
   "outputs": [],
   "source": [
    "df = X_a.copy()"
   ]
  },
  {
   "cell_type": "code",
   "execution_count": 13,
   "metadata": {
    "colab": {
     "base_uri": "https://localhost:8080/",
     "height": 206
    },
    "id": "UzBWgmFE4zzY",
    "outputId": "c7ee3f24-5a37-449c-98af-77dfbc7d7b18"
   },
   "outputs": [
    {
     "data": {
      "text/html": [
       "<div>\n",
       "<style scoped>\n",
       "    .dataframe tbody tr th:only-of-type {\n",
       "        vertical-align: middle;\n",
       "    }\n",
       "\n",
       "    .dataframe tbody tr th {\n",
       "        vertical-align: top;\n",
       "    }\n",
       "\n",
       "    .dataframe thead th {\n",
       "        text-align: right;\n",
       "    }\n",
       "</style>\n",
       "<table border=\"1\" class=\"dataframe\">\n",
       "  <thead>\n",
       "    <tr style=\"text-align: right;\">\n",
       "      <th></th>\n",
       "      <th>article_link</th>\n",
       "      <th>headline</th>\n",
       "      <th>is_sarcastic</th>\n",
       "      <th>transmitter</th>\n",
       "    </tr>\n",
       "  </thead>\n",
       "  <tbody>\n",
       "    <tr>\n",
       "      <th>0</th>\n",
       "      <td>https://www.huffingtonpost.com/entry/versace-b...</td>\n",
       "      <td>former versace store clerk sues over secret 'b...</td>\n",
       "      <td>0</td>\n",
       "      <td>huffingtonpost</td>\n",
       "    </tr>\n",
       "    <tr>\n",
       "      <th>1</th>\n",
       "      <td>https://www.huffingtonpost.com/entry/roseanne-...</td>\n",
       "      <td>the 'roseanne' revival catches up to our thorn...</td>\n",
       "      <td>0</td>\n",
       "      <td>huffingtonpost</td>\n",
       "    </tr>\n",
       "    <tr>\n",
       "      <th>2</th>\n",
       "      <td>https://local.theonion.com/mom-starting-to-fea...</td>\n",
       "      <td>mom starting to fear son's web series closest ...</td>\n",
       "      <td>1</td>\n",
       "      <td>theonion</td>\n",
       "    </tr>\n",
       "    <tr>\n",
       "      <th>3</th>\n",
       "      <td>https://politics.theonion.com/boehner-just-wan...</td>\n",
       "      <td>boehner just wants wife to listen, not come up...</td>\n",
       "      <td>1</td>\n",
       "      <td>theonion</td>\n",
       "    </tr>\n",
       "    <tr>\n",
       "      <th>4</th>\n",
       "      <td>https://www.huffingtonpost.com/entry/jk-rowlin...</td>\n",
       "      <td>j.k. rowling wishes snape happy birthday in th...</td>\n",
       "      <td>0</td>\n",
       "      <td>huffingtonpost</td>\n",
       "    </tr>\n",
       "  </tbody>\n",
       "</table>\n",
       "</div>"
      ],
      "text/plain": [
       "                                        article_link  \\\n",
       "0  https://www.huffingtonpost.com/entry/versace-b...   \n",
       "1  https://www.huffingtonpost.com/entry/roseanne-...   \n",
       "2  https://local.theonion.com/mom-starting-to-fea...   \n",
       "3  https://politics.theonion.com/boehner-just-wan...   \n",
       "4  https://www.huffingtonpost.com/entry/jk-rowlin...   \n",
       "\n",
       "                                            headline  is_sarcastic  \\\n",
       "0  former versace store clerk sues over secret 'b...             0   \n",
       "1  the 'roseanne' revival catches up to our thorn...             0   \n",
       "2  mom starting to fear son's web series closest ...             1   \n",
       "3  boehner just wants wife to listen, not come up...             1   \n",
       "4  j.k. rowling wishes snape happy birthday in th...             0   \n",
       "\n",
       "      transmitter  \n",
       "0  huffingtonpost  \n",
       "1  huffingtonpost  \n",
       "2        theonion  \n",
       "3        theonion  \n",
       "4  huffingtonpost  "
      ]
     },
     "execution_count": 13,
     "metadata": {},
     "output_type": "execute_result"
    }
   ],
   "source": [
    "extract_transmitter = lambda url : url.split('.')[1]\n",
    "df['transmitter'] = df['article_link'].apply(extract_transmitter)\n",
    "df.head()"
   ]
  },
  {
   "cell_type": "markdown",
   "metadata": {
    "id": "yA9BxJj51Kr_"
   },
   "source": [
    "### Distributions"
   ]
  },
  {
   "cell_type": "markdown",
   "metadata": {
    "id": "M0lfRTFb2LJM"
   },
   "source": [
    "In this section you notice that:\n",
    "\n",
    "1. The dependent variable is unbalanced\n",
    "2. Using feature engineering we can find a variable that predicts with 100% of accuracy if it's a sarcastic quote or not"
   ]
  },
  {
   "cell_type": "code",
   "execution_count": 14,
   "metadata": {
    "colab": {
     "base_uri": "https://localhost:8080/",
     "height": 285
    },
    "id": "UVLyYpXE4zzY",
    "outputId": "47f4610c-a6b9-45e1-ab46-36cdc615ac00"
   },
   "outputs": [
    {
     "data": {
      "image/png": "[encoded data removed]",
      "text/plain": [
       "<Figure size 1200x400 with 2 Axes>"
      ]
     },
     "metadata": {},
     "output_type": "display_data"
    }
   ],
   "source": [
    "fig, (ax1, ax2) = plt.subplots(1, 2, figsize=(12, 4))\n",
    "\n",
    "sns.set_theme(style='whitegrid')\n",
    "ax = sns.countplot(x='is_sarcastic', data=df, ax = ax1)\n",
    "\n",
    "sns.set_theme(style='whitegrid')\n",
    "ax = sns.countplot(x='transmitter', data=df, ax = ax2)"
   ]
  },
  {
   "cell_type": "code",
   "execution_count": 15,
   "metadata": {
    "colab": {
     "base_uri": "https://localhost:8080/"
    },
    "id": "o5ylNIFW1XE4",
    "outputId": "f6350c99-8115-4a22-a483-7810f2988281"
   },
   "outputs": [
    {
     "data": {
      "text/plain": [
       "0    14951\n",
       "1    11651\n",
       "Name: is_sarcastic, dtype: int64"
      ]
     },
     "execution_count": 15,
     "metadata": {},
     "output_type": "execute_result"
    }
   ],
   "source": [
    "df['is_sarcastic'].value_counts()"
   ]
  },
  {
   "cell_type": "code",
   "execution_count": 16,
   "metadata": {
    "colab": {
     "base_uri": "https://localhost:8080/"
    },
    "id": "mFjxrNcJ1lST",
    "outputId": "7c2dd3d1-cd12-4c4b-a556-1f9623747c92"
   },
   "outputs": [
    {
     "data": {
      "text/plain": [
       "huffingtonpost    14951\n",
       "theonion          11651\n",
       "Name: transmitter, dtype: int64"
      ]
     },
     "execution_count": 16,
     "metadata": {},
     "output_type": "execute_result"
    }
   ],
   "source": [
    "df['transmitter'].value_counts()"
   ]
  },
  {
   "cell_type": "markdown",
   "metadata": {
    "id": "2CBBFYNW4zzY"
   },
   "source": [
    "#### Linear correlation between features"
   ]
  },
  {
   "cell_type": "markdown",
   "metadata": {
    "id": "feJdhwfE4zzZ"
   },
   "source": [
    "It's important to note that a matrix of all ones is a very unlikely scenario in real-world data, as it would indicate that all of the variables are perfectly related and there is no variability or uniqueness in the data. However, with this information I deduce that **theonion** source always throw sarcastic headlines meanwhile **huffingtonpost** always gives non-sarcastic headlines.\n",
    "\n",
    "The conclusion here is that if I mantein the **transmitter** feature created from feature engineering I am more like to create an acurate model with the disatventage to need the source emitter."
   ]
  },
  {
   "cell_type": "code",
   "execution_count": 17,
   "metadata": {
    "id": "b9B1Y0k84zzZ"
   },
   "outputs": [],
   "source": [
    "from pandas import factorize\n",
    "columns = ['transmitter', 'is_sarcastic']\n",
    "X = df[columns]\n",
    "X.loc[:, 'transmitter'] = factorize(X['transmitter'])[0]"
   ]
  },
  {
   "cell_type": "code",
   "execution_count": 18,
   "metadata": {
    "colab": {
     "base_uri": "https://localhost:8080/",
     "height": 112
    },
    "id": "WPi3A8rf4zzZ",
    "outputId": "b296ac2d-3043-4be0-8181-a798bba93859"
   },
   "outputs": [
    {
     "data": {
      "text/html": [
       "<div>\n",
       "<style scoped>\n",
       "    .dataframe tbody tr th:only-of-type {\n",
       "        vertical-align: middle;\n",
       "    }\n",
       "\n",
       "    .dataframe tbody tr th {\n",
       "        vertical-align: top;\n",
       "    }\n",
       "\n",
       "    .dataframe thead th {\n",
       "        text-align: right;\n",
       "    }\n",
       "</style>\n",
       "<table border=\"1\" class=\"dataframe\">\n",
       "  <thead>\n",
       "    <tr style=\"text-align: right;\">\n",
       "      <th></th>\n",
       "      <th>transmitter</th>\n",
       "      <th>is_sarcastic</th>\n",
       "    </tr>\n",
       "  </thead>\n",
       "  <tbody>\n",
       "    <tr>\n",
       "      <th>transmitter</th>\n",
       "      <td>1.0</td>\n",
       "      <td>1.0</td>\n",
       "    </tr>\n",
       "    <tr>\n",
       "      <th>is_sarcastic</th>\n",
       "      <td>1.0</td>\n",
       "      <td>1.0</td>\n",
       "    </tr>\n",
       "  </tbody>\n",
       "</table>\n",
       "</div>"
      ],
      "text/plain": [
       "              transmitter  is_sarcastic\n",
       "transmitter           1.0           1.0\n",
       "is_sarcastic          1.0           1.0"
      ]
     },
     "execution_count": 18,
     "metadata": {},
     "output_type": "execute_result"
    }
   ],
   "source": [
    "# calculate the correlation matrix\n",
    "corr = X.corr()\n",
    "corr"
   ]
  },
  {
   "cell_type": "markdown",
   "metadata": {
    "id": "eTQLtF2X4zzZ",
    "tags": []
   },
   "source": [
    "## 🔨 How to vectorize text? <a class=\"anchor\" id=\"how-to-vectorize-text\"></a>"
   ]
  },
  {
   "cell_type": "markdown",
   "metadata": {
    "id": "VZPZMXUK4zzZ"
   },
   "source": [
    "In this section I present the way I map from raw text to vectorized samples in order to inject the vectorized samples into M.L models"
   ]
  },
  {
   "cell_type": "markdown",
   "metadata": {
    "id": "OirVB6Nl4zzZ",
    "tags": []
   },
   "source": [
    "### Denoise headlines"
   ]
  },
  {
   "cell_type": "markdown",
   "metadata": {
    "id": "6528K0Uk3Xm0"
   },
   "source": [
    "In this section I present the way I clean the text and transform to simple phrases using the **nltk** library and removing stop words"
   ]
  },
  {
   "cell_type": "code",
   "execution_count": 19,
   "metadata": {
    "id": "tOzL4iIE4zzZ"
   },
   "outputs": [],
   "source": [
    "def denoise_text(text: str):\n",
    "    \n",
    "    from nltk.tokenize import RegexpTokenizer\n",
    "    from nltk.corpus import stopwords\n",
    "    from nltk.stem import PorterStemmer, WordNetLemmatizer\n",
    "    \n",
    "    def concat(tokens):\n",
    "        return ' '.join(tokens)\n",
    "\n",
    "    # lower case\n",
    "    text = text.lower()\n",
    "    \n",
    "    # remove punctuation\n",
    "    tokenizer = RegexpTokenizer(r'\\w+')\n",
    "    tokens = tokenizer.tokenize(text)\n",
    "    \n",
    "    # remove numbers\n",
    "    tokens = [token for token in tokens if not token.isnumeric()]\n",
    "    \n",
    "    # remove stop words\n",
    "    stop_words = stopwords.words('english')\n",
    "    tokens = [token for token in tokens if token not in stop_words]\n",
    "    \n",
    "    # stem words\n",
    "    stemmer = PorterStemmer()\n",
    "    tokens = [stemmer.stem(token) for token in tokens]\n",
    "\n",
    "    # lemmatize words\n",
    "    lemmatizer = WordNetLemmatizer()\n",
    "    tokens = [lemmatizer.lemmatize(token) for token in tokens]\n",
    "    \n",
    "    return concat(tokens)"
   ]
  },
  {
   "cell_type": "code",
   "execution_count": 20,
   "metadata": {
    "colab": {
     "base_uri": "https://localhost:8080/",
     "height": 363
    },
    "id": "TBu2MORi4zza",
    "outputId": "1352bb31-d543-4dbd-9e10-ce316bde7c6c"
   },
   "outputs": [
    {
     "data": {
      "text/html": [
       "<div>\n",
       "<style scoped>\n",
       "    .dataframe tbody tr th:only-of-type {\n",
       "        vertical-align: middle;\n",
       "    }\n",
       "\n",
       "    .dataframe tbody tr th {\n",
       "        vertical-align: top;\n",
       "    }\n",
       "\n",
       "    .dataframe thead th {\n",
       "        text-align: right;\n",
       "    }\n",
       "</style>\n",
       "<table border=\"1\" class=\"dataframe\">\n",
       "  <thead>\n",
       "    <tr style=\"text-align: right;\">\n",
       "      <th></th>\n",
       "      <th>headline</th>\n",
       "      <th>clean_headline</th>\n",
       "    </tr>\n",
       "  </thead>\n",
       "  <tbody>\n",
       "    <tr>\n",
       "      <th>0</th>\n",
       "      <td>former versace store clerk sues over secret 'b...</td>\n",
       "      <td>former versac store clerk sue secret black cod...</td>\n",
       "    </tr>\n",
       "    <tr>\n",
       "      <th>1</th>\n",
       "      <td>the 'roseanne' revival catches up to our thorn...</td>\n",
       "      <td>roseann reviv catch thorni polit mood better wors</td>\n",
       "    </tr>\n",
       "    <tr>\n",
       "      <th>2</th>\n",
       "      <td>mom starting to fear son's web series closest ...</td>\n",
       "      <td>mom start fear son web seri closest thing gran...</td>\n",
       "    </tr>\n",
       "    <tr>\n",
       "      <th>3</th>\n",
       "      <td>boehner just wants wife to listen, not come up...</td>\n",
       "      <td>boehner want wife listen come altern debt redu...</td>\n",
       "    </tr>\n",
       "    <tr>\n",
       "      <th>4</th>\n",
       "      <td>j.k. rowling wishes snape happy birthday in th...</td>\n",
       "      <td>j k rowl wish snape happi birthday magic way</td>\n",
       "    </tr>\n",
       "    <tr>\n",
       "      <th>5</th>\n",
       "      <td>advancing the world's women</td>\n",
       "      <td>advanc world woman</td>\n",
       "    </tr>\n",
       "    <tr>\n",
       "      <th>6</th>\n",
       "      <td>the fascinating case for eating lab-grown meat</td>\n",
       "      <td>fascin case eat lab grown meat</td>\n",
       "    </tr>\n",
       "    <tr>\n",
       "      <th>7</th>\n",
       "      <td>this ceo will send your kids to school, if you...</td>\n",
       "      <td>ceo send kid school work compani</td>\n",
       "    </tr>\n",
       "    <tr>\n",
       "      <th>8</th>\n",
       "      <td>top snake handler leaves sinking huckabee camp...</td>\n",
       "      <td>top snake handler leav sink huckabe campaign</td>\n",
       "    </tr>\n",
       "    <tr>\n",
       "      <th>9</th>\n",
       "      <td>friday's morning email: inside trump's presser...</td>\n",
       "      <td>friday morn email insid trump presser age</td>\n",
       "    </tr>\n",
       "  </tbody>\n",
       "</table>\n",
       "</div>"
      ],
      "text/plain": [
       "                                            headline  \\\n",
       "0  former versace store clerk sues over secret 'b...   \n",
       "1  the 'roseanne' revival catches up to our thorn...   \n",
       "2  mom starting to fear son's web series closest ...   \n",
       "3  boehner just wants wife to listen, not come up...   \n",
       "4  j.k. rowling wishes snape happy birthday in th...   \n",
       "5                        advancing the world's women   \n",
       "6     the fascinating case for eating lab-grown meat   \n",
       "7  this ceo will send your kids to school, if you...   \n",
       "8  top snake handler leaves sinking huckabee camp...   \n",
       "9  friday's morning email: inside trump's presser...   \n",
       "\n",
       "                                      clean_headline  \n",
       "0  former versac store clerk sue secret black cod...  \n",
       "1  roseann reviv catch thorni polit mood better wors  \n",
       "2  mom start fear son web seri closest thing gran...  \n",
       "3  boehner want wife listen come altern debt redu...  \n",
       "4       j k rowl wish snape happi birthday magic way  \n",
       "5                                 advanc world woman  \n",
       "6                     fascin case eat lab grown meat  \n",
       "7                   ceo send kid school work compani  \n",
       "8       top snake handler leav sink huckabe campaign  \n",
       "9          friday morn email insid trump presser age  "
      ]
     },
     "execution_count": 20,
     "metadata": {},
     "output_type": "execute_result"
    }
   ],
   "source": [
    "df['clean_headline'] = df['headline'].apply(denoise_text)\n",
    "df[['headline', 'clean_headline']].head(10)"
   ]
  },
  {
   "cell_type": "markdown",
   "metadata": {
    "id": "3Z-akcsM4zza"
   },
   "source": [
    "#### Most commond words in headlines"
   ]
  },
  {
   "cell_type": "markdown",
   "metadata": {
    "id": "E7MOUfN13Xm1"
   },
   "source": [
    "In this section you'll see the most recurrent words used in sarcastic headlines and in not sarcastic headlines. This may gives us an idea of how sarcastic quotes are diferenciated from non sarcastic quotes."
   ]
  },
  {
   "cell_type": "code",
   "execution_count": 21,
   "metadata": {
    "colab": {
     "base_uri": "https://localhost:8080/",
     "height": 199
    },
    "id": "je_F3w7v4zza",
    "outputId": "43cdf2ee-476f-4559-b475-0691808847ba"
   },
   "outputs": [
    {
     "data": {
      "image/png": "[encoded data removed]",
      "text/plain": [
       "<Figure size 1200x400 with 2 Axes>"
      ]
     },
     "metadata": {},
     "output_type": "display_data"
    }
   ],
   "source": [
    "fig, (ax1, ax2) = plt.subplots(1, 2, figsize=(12, 4))\n",
    "\n",
    "# more frequent words used in not sarcastic headlines\n",
    "ns_words = ' '.join(df[df['is_sarcastic'] == 0]['clean_headline'])\n",
    "wc = WordCloud(\n",
    "    max_words = 15, \n",
    "    collocations = False, \n",
    "    background_color = 'white') \\\n",
    "    .generate(ns_words)\n",
    "ax1.imshow(wc , interpolation = 'bilinear')\n",
    "ax1.axis('off')\n",
    "ax1.set_title('NON sarcastic headlines')\n",
    "\n",
    "\n",
    "# more frequent words used in sarcastic headlines\n",
    "ns_words = ' '.join(df[df['is_sarcastic'] == 1]['clean_headline'])\n",
    "wc = WordCloud(max_words = 15, collocations = False, background_color = 'white').generate(ns_words)\n",
    "ax2.imshow(wc , interpolation = 'bilinear')\n",
    "ax2.axis(\"off\")\n",
    "ax2.set_title('Sarcastic headlines')\n",
    "\n",
    "\n",
    "plt.show()"
   ]
  },
  {
   "cell_type": "markdown",
   "metadata": {
    "id": "dyKxwQwT4zza"
   },
   "source": [
    "### Vectorize words"
   ]
  },
  {
   "cell_type": "markdown",
   "metadata": {
    "id": "bX2w0Jq-4zzb"
   },
   "source": [
    "To add context to the machine learning algorithm, I use ngrams of size 1 and 2. This makes increase the size of data but I hope it helps the algoritms to be more acurate."
   ]
  },
  {
   "cell_type": "code",
   "execution_count": 22,
   "metadata": {
    "id": "fsqmX3xD4zzb"
   },
   "outputs": [],
   "source": [
    "from sklearn.feature_extraction.text import CountVectorizer\n",
    "\n",
    "corpus = df['clean_headline']\n",
    "vectorizer = CountVectorizer(\n",
    "    dtype='int32', \n",
    "    analyzer='word', \n",
    "    ngram_range=(1,1),\n",
    "    min_df=1)\n",
    "X = vectorizer.fit_transform(corpus)\n",
    "feature_names = vectorizer.get_feature_names_out()"
   ]
  },
  {
   "cell_type": "code",
   "execution_count": 23,
   "metadata": {
    "colab": {
     "base_uri": "https://localhost:8080/"
    },
    "id": "5zVAiVlD4zzb",
    "outputId": "7ae558ef-82b5-4275-b3d1-4e7ac29e7e57"
   },
   "outputs": [
    {
     "data": {
      "text/plain": [
       "(26602, 16976)"
      ]
     },
     "execution_count": 23,
     "metadata": {},
     "output_type": "execute_result"
    }
   ],
   "source": [
    "X.shape"
   ]
  },
  {
   "cell_type": "code",
   "execution_count": 24,
   "metadata": {
    "colab": {
     "base_uri": "https://localhost:8080/"
    },
    "id": "EihXNEJ04zzb",
    "outputId": "91affd07-e45f-48af-968c-fa7c2e01cb2a"
   },
   "outputs": [
    {
     "data": {
      "text/plain": [
       "array(['abduct', 'abdul', 'abe', 'abedin', 'abhorr', 'abid', 'abil',\n",
       "       'abject', 'abl', 'aboard', 'abolish', 'abomin', 'abort',\n",
       "       'aboveground', 'abraham', 'abram', 'abramson', 'abridg', 'abroad',\n",
       "       'abruptli', 'absenc', 'absent', 'absentmind', 'abso', 'absolut'],\n",
       "      dtype=object)"
      ]
     },
     "execution_count": 24,
     "metadata": {},
     "output_type": "execute_result"
    }
   ],
   "source": [
    "feature_names[100:125]"
   ]
  },
  {
   "cell_type": "code",
   "execution_count": 25,
   "metadata": {
    "id": "fsO5TWS64zzb"
   },
   "outputs": [],
   "source": [
    "# X.toarray() <- Even decreasing the number of bits to representing the data, it does not work, I have 8gb of ram and it exceeds 14gb\n",
    "sdf = pd.DataFrame.sparse.from_spmatrix(X)\n",
    "sdf[['is_sarcastic', 'transmitter']] = df[['is_sarcastic', 'transmitter']]"
   ]
  },
  {
   "cell_type": "code",
   "execution_count": 26,
   "metadata": {
    "colab": {
     "base_uri": "https://localhost:8080/",
     "height": 206
    },
    "id": "TstBcGM04zzb",
    "outputId": "73930252-3a74-4ee9-e979-19da265c0f50"
   },
   "outputs": [
    {
     "data": {
      "text/html": [
       "<div>\n",
       "<style scoped>\n",
       "    .dataframe tbody tr th:only-of-type {\n",
       "        vertical-align: middle;\n",
       "    }\n",
       "\n",
       "    .dataframe tbody tr th {\n",
       "        vertical-align: top;\n",
       "    }\n",
       "\n",
       "    .dataframe thead th {\n",
       "        text-align: right;\n",
       "    }\n",
       "</style>\n",
       "<table border=\"1\" class=\"dataframe\">\n",
       "  <thead>\n",
       "    <tr style=\"text-align: right;\">\n",
       "      <th></th>\n",
       "      <th>0</th>\n",
       "      <th>1</th>\n",
       "      <th>2</th>\n",
       "      <th>3</th>\n",
       "      <th>4</th>\n",
       "      <th>5</th>\n",
       "      <th>6</th>\n",
       "      <th>7</th>\n",
       "      <th>8</th>\n",
       "      <th>9</th>\n",
       "      <th>is_sarcastic</th>\n",
       "      <th>transmitter</th>\n",
       "    </tr>\n",
       "  </thead>\n",
       "  <tbody>\n",
       "    <tr>\n",
       "      <th>0</th>\n",
       "      <td>0</td>\n",
       "      <td>0</td>\n",
       "      <td>0</td>\n",
       "      <td>0</td>\n",
       "      <td>0</td>\n",
       "      <td>0</td>\n",
       "      <td>0</td>\n",
       "      <td>0</td>\n",
       "      <td>0</td>\n",
       "      <td>0</td>\n",
       "      <td>0.0</td>\n",
       "      <td>huffingtonpost</td>\n",
       "    </tr>\n",
       "    <tr>\n",
       "      <th>1</th>\n",
       "      <td>0</td>\n",
       "      <td>0</td>\n",
       "      <td>0</td>\n",
       "      <td>0</td>\n",
       "      <td>0</td>\n",
       "      <td>0</td>\n",
       "      <td>0</td>\n",
       "      <td>0</td>\n",
       "      <td>0</td>\n",
       "      <td>0</td>\n",
       "      <td>0.0</td>\n",
       "      <td>huffingtonpost</td>\n",
       "    </tr>\n",
       "    <tr>\n",
       "      <th>2</th>\n",
       "      <td>0</td>\n",
       "      <td>0</td>\n",
       "      <td>0</td>\n",
       "      <td>0</td>\n",
       "      <td>0</td>\n",
       "      <td>0</td>\n",
       "      <td>0</td>\n",
       "      <td>0</td>\n",
       "      <td>0</td>\n",
       "      <td>0</td>\n",
       "      <td>1.0</td>\n",
       "      <td>theonion</td>\n",
       "    </tr>\n",
       "    <tr>\n",
       "      <th>3</th>\n",
       "      <td>0</td>\n",
       "      <td>0</td>\n",
       "      <td>0</td>\n",
       "      <td>0</td>\n",
       "      <td>0</td>\n",
       "      <td>0</td>\n",
       "      <td>0</td>\n",
       "      <td>0</td>\n",
       "      <td>0</td>\n",
       "      <td>0</td>\n",
       "      <td>1.0</td>\n",
       "      <td>theonion</td>\n",
       "    </tr>\n",
       "    <tr>\n",
       "      <th>4</th>\n",
       "      <td>0</td>\n",
       "      <td>0</td>\n",
       "      <td>0</td>\n",
       "      <td>0</td>\n",
       "      <td>0</td>\n",
       "      <td>0</td>\n",
       "      <td>0</td>\n",
       "      <td>0</td>\n",
       "      <td>0</td>\n",
       "      <td>0</td>\n",
       "      <td>0.0</td>\n",
       "      <td>huffingtonpost</td>\n",
       "    </tr>\n",
       "  </tbody>\n",
       "</table>\n",
       "</div>"
      ],
      "text/plain": [
       "   0  1  2  3  4  5  6  7  8  9  is_sarcastic     transmitter\n",
       "0  0  0  0  0  0  0  0  0  0  0           0.0  huffingtonpost\n",
       "1  0  0  0  0  0  0  0  0  0  0           0.0  huffingtonpost\n",
       "2  0  0  0  0  0  0  0  0  0  0           1.0        theonion\n",
       "3  0  0  0  0  0  0  0  0  0  0           1.0        theonion\n",
       "4  0  0  0  0  0  0  0  0  0  0           0.0  huffingtonpost"
      ]
     },
     "execution_count": 26,
     "metadata": {},
     "output_type": "execute_result"
    }
   ],
   "source": [
    "sdf[list(range(10)) + ['is_sarcastic', 'transmitter']].head()"
   ]
  },
  {
   "cell_type": "code",
   "execution_count": 27,
   "metadata": {},
   "outputs": [
    {
     "name": "stdout",
     "output_type": "stream",
     "text": [
      "LAST DUMP\n"
     ]
    }
   ],
   "source": [
    "picker.dump_session('notebook_env.db')\n",
    "print('LAST DUMP')"
   ]
  },
  {
   "cell_type": "markdown",
   "metadata": {
    "id": "RHFN_i1P4zzb",
    "tags": []
   },
   "source": [
    "## 🔮 End to End Modeling<a class=\"anchor\" id=\"end-to-end-modeling\"></a>"
   ]
  },
  {
   "cell_type": "markdown",
   "metadata": {
    "id": "2VsBYqAf3Xm2"
   },
   "source": [
    "As I want this project be portable, I'll use the end-to-end desing pattern. Which, being brief, consist in having the transformations and the modeling in the same workflow, programmatically as I'm using **sklearn**, it means using *Pipelines* and *Transformers*."
   ]
  },
  {
   "cell_type": "code",
   "execution_count": 28,
   "metadata": {},
   "outputs": [],
   "source": [
    "picker.load_session('notebook_env.db')"
   ]
  },
  {
   "cell_type": "markdown",
   "metadata": {
    "id": "9y7u08OS3Xm2",
    "tags": []
   },
   "source": [
    "### Transformations"
   ]
  },
  {
   "cell_type": "code",
   "execution_count": 29,
   "metadata": {
    "id": "YQ9WHtuC4zzb"
   },
   "outputs": [],
   "source": [
    "from sklearn.pipeline import Pipeline\n",
    "from sklearn.compose import ColumnTransformer\n",
    "from sklearn.preprocessing import LabelEncoder\n",
    "from sklearn.feature_extraction.text import CountVectorizer\n",
    "from sklearn.preprocessing import OrdinalEncoder\n",
    "from sklearn.base import BaseEstimator, TransformerMixin\n",
    "\n",
    "# Custom transformers\n",
    "\n",
    "# cleans noise from raw text\n",
    "class TextDenoiser(BaseEstimator, TransformerMixin):\n",
    "    \n",
    "    def __denoise_text(self, text):\n",
    "        from nltk.tokenize import RegexpTokenizer\n",
    "        from nltk.corpus import stopwords\n",
    "        from nltk.stem import PorterStemmer, WordNetLemmatizer\n",
    "        \n",
    "        def concat(tokens):\n",
    "            return ' '.join(tokens)\n",
    "\n",
    "        # lower case\n",
    "        text = text.lower()\n",
    "\n",
    "        # remove punctuation\n",
    "        tokenizer = RegexpTokenizer(r'\\w+')\n",
    "        tokens = tokenizer.tokenize(text)\n",
    "\n",
    "        # remove numbers\n",
    "        tokens = [token for token in tokens if not token.isnumeric()]\n",
    "\n",
    "        # remove stop words\n",
    "        stop_words = stopwords.words('english')\n",
    "        tokens = [token for token in tokens if token not in stop_words]\n",
    "\n",
    "        # stem words\n",
    "        stemmer = PorterStemmer()\n",
    "        tokens = [stemmer.stem(token) for token in tokens]\n",
    "\n",
    "        # lemmatize words\n",
    "        lemmatizer = WordNetLemmatizer()\n",
    "        tokens = [lemmatizer.lemmatize(token) for token in tokens]\n",
    "\n",
    "        return concat(tokens)\n",
    "\n",
    "    def __init__(self):\n",
    "        pass\n",
    "    \n",
    "    def fit(self, X, y=None):\n",
    "        X = pd.DataFrame(X)\n",
    "        return self\n",
    "\n",
    "    def transform(self, X, y=None):\n",
    "        X = pd.DataFrame(X)\n",
    "        for c in X.columns:\n",
    "            X[c] = X[c].apply(self.__denoise_text)\n",
    "        return X\n",
    "\n",
    "    \n",
    "# Transform url into transmitter categorical variable \n",
    "# (NOT USED ANYMORE as I see this features give me height performance but It makes models dependent from this variable and I dont want it!)\n",
    "class TransmitterExtracter(BaseEstimator, TransformerMixin):\n",
    "\n",
    "    def __init__(self):\n",
    "        pass\n",
    "    \n",
    "    def fit(self, X, y=None):\n",
    "        X = pd.DataFrame(X)\n",
    "        # self.input_features = X.columns\n",
    "        return self\n",
    "    \n",
    "    def __extracter(self, text):\n",
    "        return text.split('.')[1]\n",
    "\n",
    "    def transform(self, X, y=None):\n",
    "        X = pd.DataFrame(X)\n",
    "        for c in X.columns:\n",
    "            X[c] = X[c].apply(self.__extracter)\n",
    "        return X"
   ]
  },
  {
   "cell_type": "code",
   "execution_count": 30,
   "metadata": {
    "id": "f-4IOdqY4zzc"
   },
   "outputs": [],
   "source": [
    "text_processor_pipeline = Pipeline(steps=[\n",
    "            ('denoiser', TextDenoiser()),\n",
    "            ('ct', ColumnTransformer(transformers=[\n",
    "                ('v', CountVectorizer(\n",
    "                        dtype='int32',\n",
    "                        analyzer='word',\n",
    "                        min_df=1), 0)\n",
    "                ])\n",
    "            )\n",
    "  ])\n",
    "\n",
    "# Column transformer get's ride of no transformed columns\n",
    "preprocessor = ColumnTransformer(\n",
    "    transformers=[\n",
    "        #('tf1', transmitter_processor_pipeline, ['article_link']),\n",
    "        ('tf1', text_processor_pipeline, ['headline']),\n",
    "    ],\n",
    "    #remainder='passthrough'\n",
    ")"
   ]
  },
  {
   "cell_type": "code",
   "execution_count": 31,
   "metadata": {
    "colab": {
     "base_uri": "https://localhost:8080/"
    },
    "id": "QnKNGlwV4zzc",
    "outputId": "5abe637b-5d3b-435f-8e2d-040e2022359a"
   },
   "outputs": [
    {
     "data": {
      "text/plain": [
       "(pandas.core.frame.DataFrame, pandas.core.series.Series)"
      ]
     },
     "execution_count": 31,
     "metadata": {},
     "output_type": "execute_result"
    }
   ],
   "source": [
    "X = X_a.drop(['is_sarcastic', 'article_link'], 1)\n",
    "y = X_a['is_sarcastic']\n",
    "type(X), type(y)"
   ]
  },
  {
   "cell_type": "code",
   "execution_count": 32,
   "metadata": {
    "colab": {
     "base_uri": "https://localhost:8080/"
    },
    "id": "TCv8oe7W4zzd",
    "outputId": "27a06b23-bf2b-460c-8dcb-e2dcc052c694"
   },
   "outputs": [
    {
     "data": {
      "text/plain": [
       "(scipy.sparse._csr.csr_matrix, pandas.core.series.Series)"
      ]
     },
     "execution_count": 32,
     "metadata": {},
     "output_type": "execute_result"
    }
   ],
   "source": [
    "from sklearn.model_selection import train_test_split\n",
    "\n",
    "X_train, X_test, y_train, y_test = train_test_split(\n",
    "    X, y, test_size=0.2, random_state=42, stratify=y.to_numpy())\n",
    "\n",
    "X_train = preprocessor.fit_transform(X_train)\n",
    "X_test = preprocessor.transform(X_test)\n",
    "\n",
    "type(X_train), type(y_train)"
   ]
  },
  {
   "cell_type": "code",
   "execution_count": 33,
   "metadata": {
    "colab": {
     "base_uri": "https://localhost:8080/"
    },
    "id": "gJjBTgtl4zzd",
    "outputId": "6437d25b-905b-4eaa-c283-d4fa45e2b914"
   },
   "outputs": [
    {
     "name": "stdout",
     "output_type": "stream",
     "text": [
      "Training dataset shape features (21281, 15421)\n",
      "Training dataset shape labels (21281,)\n",
      "Test dataset shape features (5321, 15421)\n",
      "Test dataset shape labels (5321,)\n"
     ]
    }
   ],
   "source": [
    "print('Training dataset shape features', X_train.shape)\n",
    "print('Training dataset shape labels', y_train.shape)\n",
    "print('Test dataset shape features', X_test.shape)\n",
    "print('Test dataset shape labels', y_test.shape)"
   ]
  },
  {
   "cell_type": "code",
   "execution_count": 34,
   "metadata": {},
   "outputs": [
    {
     "name": "stdout",
     "output_type": "stream",
     "text": [
      "LAST DUMP\n"
     ]
    }
   ],
   "source": [
    "picker.dump_session('notebook_env.db')\n",
    "print('LAST DUMP')"
   ]
  },
  {
   "cell_type": "markdown",
   "metadata": {
    "id": "kHLJqS-j3Xm3",
    "tags": []
   },
   "source": [
    "### Modeling"
   ]
  },
  {
   "cell_type": "code",
   "execution_count": 35,
   "metadata": {},
   "outputs": [],
   "source": [
    "picker.load_session('notebook_env.db')"
   ]
  },
  {
   "cell_type": "code",
   "execution_count": 36,
   "metadata": {
    "id": "vEVtGOwR3Xm3"
   },
   "outputs": [],
   "source": [
    "from sklearn.metrics import f1_score\n",
    "from sklearn.metrics import accuracy_score"
   ]
  },
  {
   "cell_type": "markdown",
   "metadata": {
    "id": "Es91YVqk3Xm3"
   },
   "source": [
    "I import some metrics to know how good my models behave. As the default distribution of my data is unbalanced I'll use **f1** score as the trusted metric estimator"
   ]
  },
  {
   "cell_type": "code",
   "execution_count": 37,
   "metadata": {
    "id": "2f2cM2ZP3Xm3"
   },
   "outputs": [],
   "source": [
    "from sklearn.model_selection import GridSearchCV"
   ]
  },
  {
   "cell_type": "markdown",
   "metadata": {
    "id": "6Gy9SNi43Xm3"
   },
   "source": [
    "Because I rather work with Jupyterlab instead of Google Collab and I need my machine I'll use RandomizedSearchCV instead of GridSearchCV in order to pick random params and accelerate the train process. I also lower the CV validations splits to 3 instead of 5 which is the default."
   ]
  },
  {
   "cell_type": "code",
   "execution_count": 38,
   "metadata": {
    "id": "QqCxs3VV3Xm4"
   },
   "outputs": [],
   "source": [
    "from sklearn.model_selection import train_test_split\n",
    "\n",
    "X_train, X_test, y_train, y_test = train_test_split(\n",
    "    X, y, test_size=0.2, random_state=42, stratify=y.to_numpy())"
   ]
  },
  {
   "cell_type": "markdown",
   "metadata": {
    "id": "PSTvlE0n3Xm4"
   },
   "source": [
    "I use the 20% of the original sample to make the test. The splited samples are not randomly, it uses stratify mechanism as we know that the data is a litte biassed, because we have more samples of non-sarcastic quotes. If I do this, I force that the distribution in the test samples follow this rule"
   ]
  },
  {
   "cell_type": "code",
   "execution_count": 39,
   "metadata": {
    "id": "NMrH0lcI3Xm4"
   },
   "outputs": [],
   "source": [
    "# confusion matrix\n",
    "import matplotlib.pyplot as plt\n",
    "from sklearn.metrics import confusion_matrix, ConfusionMatrixDisplay\n",
    "\n",
    "def plot_confusion_matrix(y_test, predictions, classes):\n",
    "    cm = confusion_matrix(y_test, predictions, labels=classes)\n",
    "    disp = ConfusionMatrixDisplay(confusion_matrix=cm,\n",
    "                                  display_labels=classes)\n",
    "    disp.plot()\n",
    "    plt.show()"
   ]
  },
  {
   "cell_type": "markdown",
   "metadata": {
    "id": "pY8RxEe83Xm4"
   },
   "source": [
    "AUC–ROC curve is the model selection metric for bi–multi class classification problem. \n",
    "ROC is a probability curve for different classes. ROC tells us how good the model is \n",
    "for distinguishing the given classes, in terms of the predicted probability.\n",
    "The area covered by the curve is the area between the orange line (ROC) and the axis. \n",
    "This area covered is AUC. The bigger the area covered, the better the machine learning models is at distinguishing the given classes. \n",
    "ideal value for AUC is 1."
   ]
  },
  {
   "cell_type": "code",
   "execution_count": 40,
   "metadata": {
    "id": "ujkhg-_63Xm4"
   },
   "outputs": [],
   "source": [
    "def plot_roc_curve(pipe, X_test, y_test):\n",
    "    from sklearn.metrics import RocCurveDisplay\n",
    "    _ = RocCurveDisplay.from_estimator(pipe, X_test, y_test)"
   ]
  },
  {
   "cell_type": "code",
   "execution_count": 41,
   "metadata": {
    "id": "7zK2EmMZ3Xm5"
   },
   "outputs": [],
   "source": [
    "# Here I save the best models\n",
    "M = {}"
   ]
  },
  {
   "cell_type": "code",
   "execution_count": 42,
   "metadata": {},
   "outputs": [
    {
     "name": "stdout",
     "output_type": "stream",
     "text": [
      "LAST DUMP\n"
     ]
    }
   ],
   "source": [
    "picker.dump_session('notebook_env.db')\n",
    "print('LAST DUMP')"
   ]
  },
  {
   "cell_type": "code",
   "execution_count": 43,
   "metadata": {
    "id": "6xpfYsbWaEUe"
   },
   "outputs": [],
   "source": [
    "# preprocessor.get_params().keys()"
   ]
  },
  {
   "cell_type": "markdown",
   "metadata": {
    "id": "onqRSXmC3Xm5"
   },
   "source": [
    "#### Multinomial NB"
   ]
  },
  {
   "cell_type": "code",
   "execution_count": 44,
   "metadata": {},
   "outputs": [],
   "source": [
    "picker.load_session('notebook_env.db')"
   ]
  },
  {
   "cell_type": "code",
   "execution_count": 45,
   "metadata": {
    "colab": {
     "base_uri": "https://localhost:8080/"
    },
    "id": "NDnue4Ua3Xm5",
    "outputId": "133095f3-a6ce-48b6-e75d-ab016f54b32f"
   },
   "outputs": [
    {
     "name": "stdout",
     "output_type": "stream",
     "text": [
      "CV trainning took:  43.32  seconds\n"
     ]
    }
   ],
   "source": [
    "from sklearn.naive_bayes import MultinomialNB\n",
    "\n",
    "pipe = Pipeline([\n",
    "    ('preprocessor', preprocessor),\n",
    "    ('mnb', MultinomialNB())\n",
    "])\n",
    "\n",
    "alphas = np.concatenate(\n",
    "    (np.linspace(0.05, 1, 3), np.linspace(2, 4, 3)), \n",
    "    axis=None)\n",
    "\n",
    "ngrams = [(1, 1), (1, 2)]\n",
    "\n",
    "grid_params = {\n",
    "  'mnb__alpha': alphas,\n",
    "  'mnb__fit_prior': [True],  \n",
    "  'preprocessor__tf1__ct__v__ngram_range': ngrams\n",
    "}\n",
    "\n",
    "start=time()\n",
    "\n",
    "rsp = GridSearchCV(\n",
    "    pipe, \n",
    "    grid_params, \n",
    "    cv = 5,\n",
    "    scoring = 'f1',\n",
    "    n_jobs=-1\n",
    ")\n",
    "rsp.fit(X_train, y_train)\n",
    "\n",
    "elapsed = time() - start\n",
    "print(\"CV trainning took: \", round(elapsed, 2), \" seconds\")"
   ]
  },
  {
   "cell_type": "code",
   "execution_count": 46,
   "metadata": {
    "colab": {
     "base_uri": "https://localhost:8080/"
    },
    "id": "lp3MtEzW3Xm5",
    "outputId": "6a81d961-df33-4e8b-8484-a08913b9623b"
   },
   "outputs": [
    {
     "name": "stdout",
     "output_type": "stream",
     "text": [
      "Best Params:  {'mnb__alpha': 0.525, 'mnb__fit_prior': True, 'preprocessor__tf1__ct__v__ngram_range': (1, 2)}\n"
     ]
    }
   ],
   "source": [
    "print(\"Best Params: \", rsp.best_params_)"
   ]
  },
  {
   "cell_type": "code",
   "execution_count": 47,
   "metadata": {
    "colab": {
     "base_uri": "https://localhost:8080/",
     "height": 286
    },
    "id": "9wqM0i3F3Xm5",
    "outputId": "01ae19c9-c9a8-44e6-dfe0-545a4f33ddcc"
   },
   "outputs": [
    {
     "data": {
      "image/png": "[encoded data removed]",
      "text/plain": [
       "<Figure size 640x480 with 2 Axes>"
      ]
     },
     "metadata": {},
     "output_type": "display_data"
    }
   ],
   "source": [
    "pipe_nb = rsp.best_estimator_\n",
    "y_pred = pipe_nb.predict(X_test)\n",
    "plot_confusion_matrix(y_test, y_pred, pipe_nb.classes_)"
   ]
  },
  {
   "cell_type": "code",
   "execution_count": 48,
   "metadata": {
    "colab": {
     "base_uri": "https://localhost:8080/",
     "height": 285
    },
    "id": "4XjqLnnO3Xm5",
    "outputId": "25795b39-f354-4861-f955-52038cfdae09"
   },
   "outputs": [
    {
     "data": {
      "image/png": "[encoded data removed]",
      "text/plain": [
       "<Figure size 640x480 with 1 Axes>"
      ]
     },
     "metadata": {},
     "output_type": "display_data"
    }
   ],
   "source": [
    "plot_roc_curve(pipe_nb, X_test, y_test)"
   ]
  },
  {
   "cell_type": "code",
   "execution_count": 49,
   "metadata": {
    "id": "-0FSpOpO3Xm6"
   },
   "outputs": [],
   "source": [
    "M['multinomial_nb'] = {\n",
    "    'model': pipe_nb,\n",
    "    'time': elapsed\n",
    "}"
   ]
  },
  {
   "cell_type": "code",
   "execution_count": 50,
   "metadata": {},
   "outputs": [
    {
     "name": "stdout",
     "output_type": "stream",
     "text": [
      "LAST DUMP\n"
     ]
    }
   ],
   "source": [
    "picker.dump_session('notebook_env.db')\n",
    "print('LAST DUMP')"
   ]
  },
  {
   "cell_type": "markdown",
   "metadata": {
    "id": "ND8RvW6R3Xm7"
   },
   "source": [
    "### KNN"
   ]
  },
  {
   "cell_type": "code",
   "execution_count": 51,
   "metadata": {},
   "outputs": [],
   "source": [
    "picker.load_session('notebook_env.db')"
   ]
  },
  {
   "cell_type": "code",
   "execution_count": null,
   "metadata": {
    "id": "YjkMwEkN3Xm7"
   },
   "outputs": [],
   "source": [
    "from sklearn.neighbors import KNeighborsClassifier\n",
    "from sklearn.feature_extraction.text import TfidfTransformer\n",
    "\n",
    "pipe = Pipeline ([\n",
    "    ('preprocessor', preprocessor),\n",
    "    ('tfidf', TfidfTransformer()),\n",
    "    ('knn', KNeighborsClassifier(algorithm='kd_tree', weights='uniform', metric='minkowski'))\n",
    "])\n",
    "\n",
    "ngrams = [(1, 1), (1, 2)]\n",
    "\n",
    "grid_params = {\n",
    "  'knn__n_neighbors': [15,30,45,60,75,90],\n",
    "  'preprocessor__tf1__ct__v__ngram_range': ngrams,\n",
    "  'knn__p': [1, 2],\n",
    "  'knn__leaf_size': [10, 20]\n",
    "}\n",
    "\n",
    "start=time()\n",
    "rsp = GridSearchCV(\n",
    "    pipe, \n",
    "    grid_params, \n",
    "    cv = 3,\n",
    "    scoring = 'f1'\n",
    ")\n",
    "\n",
    "rsp.fit(X_train, y_train)\n",
    "elapsed = time() - start\n",
    "print(\"CV trainning took: \", round(elapsed, 2), \" seconds\")"
   ]
  },
  {
   "cell_type": "code",
   "execution_count": 53,
   "metadata": {
    "colab": {
     "base_uri": "https://localhost:8080/"
    },
    "id": "fIs7iNNb3Xm7",
    "outputId": "cb38dfeb-1a0c-4ba6-f568-f68efe8c4869"
   },
   "outputs": [
    {
     "name": "stdout",
     "output_type": "stream",
     "text": [
      "Best Params:  {'knn__leaf_size': 10, 'knn__n_neighbors': 3, 'knn__p': 1, 'preprocessor__tf1__ct__v__ngram_range': (1, 1)}\n"
     ]
    }
   ],
   "source": [
    "print(\"Best Params: \", rsp.best_params_)"
   ]
  },
  {
   "cell_type": "code",
   "execution_count": 54,
   "metadata": {
    "colab": {
     "base_uri": "https://localhost:8080/",
     "height": 285
    },
    "id": "VR7PvpV03Xm7",
    "outputId": "01e87c52-5cb3-4633-8fd0-76b8dc54a678"
   },
   "outputs": [
    {
     "data": {
      "image/png": "[encoded data removed]",
      "text/plain": [
       "<Figure size 640x480 with 2 Axes>"
      ]
     },
     "metadata": {},
     "output_type": "display_data"
    }
   ],
   "source": [
    "pipe_knn = rsp.best_estimator_\n",
    "y_pred = pipe_knn.predict(X_test)\n",
    "plot_confusion_matrix(y_test, y_pred, pipe_knn.classes_)"
   ]
  },
  {
   "cell_type": "code",
   "execution_count": 55,
   "metadata": {
    "colab": {
     "base_uri": "https://localhost:8080/",
     "height": 285
    },
    "id": "ZnXiNYDm3Xm7",
    "outputId": "075e5bc1-b91a-4d10-cdbe-986b144fc83b"
   },
   "outputs": [
    {
     "data": {
      "image/png": "[encoded data removed]",
      "text/plain": [
       "<Figure size 640x480 with 1 Axes>"
      ]
     },
     "metadata": {},
     "output_type": "display_data"
    }
   ],
   "source": [
    "plot_roc_curve(pipe_knn, X_test, y_test)"
   ]
  },
  {
   "cell_type": "code",
   "execution_count": 56,
   "metadata": {
    "id": "4Ik3vTvV3Xm7"
   },
   "outputs": [],
   "source": [
    "M['knn'] = {\n",
    "    'model': pipe_knn,\n",
    "    'time': elapsed\n",
    "}"
   ]
  },
  {
   "cell_type": "code",
   "execution_count": 57,
   "metadata": {},
   "outputs": [
    {
     "name": "stdout",
     "output_type": "stream",
     "text": [
      "LAST DUMP\n"
     ]
    }
   ],
   "source": [
    "picker.dump_session('notebook_env.db')\n",
    "print('LAST DUMP')"
   ]
  },
  {
   "cell_type": "markdown",
   "metadata": {
    "id": "RB2AdyrZ3Xm7"
   },
   "source": [
    "### SVM"
   ]
  },
  {
   "cell_type": "code",
   "execution_count": 58,
   "metadata": {},
   "outputs": [],
   "source": [
    "picker.load_session('notebook_env.db')"
   ]
  },
  {
   "cell_type": "code",
   "execution_count": 59,
   "metadata": {
    "id": "8hxrNT5e3Xm7"
   },
   "outputs": [
    {
     "name": "stdout",
     "output_type": "stream",
     "text": [
      "CV trainning took:  3236.43  seconds\n"
     ]
    }
   ],
   "source": [
    "from sklearn.svm import SVC\n",
    "from sklearn.preprocessing import StandardScaler\n",
    "\n",
    "text_processor_pipeline = Pipeline(steps=[\n",
    "            ('denoiser', TextDenoiser()),\n",
    "            ('ct', ColumnTransformer(transformers=[\n",
    "                ('v', CountVectorizer(\n",
    "                        dtype='int32',\n",
    "                        analyzer='word',\n",
    "                        min_df=1), 0)\n",
    "                ])\n",
    "            ),\n",
    "            ('scaler', StandardScaler(with_mean=False))\n",
    "  ])\n",
    "\n",
    "# Column transformer get's ride of no transformed columns\n",
    "preprocessor = ColumnTransformer(\n",
    "    transformers=[\n",
    "        #('tf1', transmitter_processor_pipeline, ['article_link']),\n",
    "        ('tf1', text_processor_pipeline, ['headline']),\n",
    "    ],\n",
    "    #remainder='passthrough'\n",
    ")\n",
    "\n",
    "pipe = Pipeline([\n",
    "    ('preprocessor', preprocessor),\n",
    "    ('svc', SVC())\n",
    "])\n",
    "\n",
    "ngrams = [(1, 1), (1, 2)]\n",
    "\n",
    "grid_params = {\n",
    "    'svc__C': [0.1, 0.9, 9],\n",
    "    'svc__kernel': ['linear', 'rbf'],\n",
    "    'svc__cache_size': [ 200, 400 ],\n",
    "    'preprocessor__tf1__ct__v__ngram_range': ngrams,\n",
    "}\n",
    "\n",
    "start=time()\n",
    "\n",
    "rsp = GridSearchCV(\n",
    "    pipe, \n",
    "    grid_params, \n",
    "    cv = 3,\n",
    "    scoring = 'f1'\n",
    ")\n",
    "rsp.fit(X_train, y_train)\n",
    "\n",
    "elapsed = time() - start\n",
    "print(\"CV trainning took: \", round(elapsed, 2), \" seconds\")"
   ]
  },
  {
   "cell_type": "code",
   "execution_count": 60,
   "metadata": {
    "id": "G3Dr3q-k3Xm7"
   },
   "outputs": [
    {
     "name": "stdout",
     "output_type": "stream",
     "text": [
      "Best Params:  {'preprocessor__tf1__ct__v__ngram_range': (1, 1), 'svc__C': 9, 'svc__cache_size': 200, 'svc__kernel': 'rbf'}\n"
     ]
    }
   ],
   "source": [
    "print(\"Best Params: \", rsp.best_params_)"
   ]
  },
  {
   "cell_type": "code",
   "execution_count": 61,
   "metadata": {
    "id": "R_wsfOzM3Xm8"
   },
   "outputs": [
    {
     "data": {
      "image/png": "[encoded data removed]",
      "text/plain": [
       "<Figure size 640x480 with 2 Axes>"
      ]
     },
     "metadata": {},
     "output_type": "display_data"
    }
   ],
   "source": [
    "pipe_svc = rsp.best_estimator_\n",
    "y_pred = pipe_svc.predict(X_test)\n",
    "plot_confusion_matrix(y_test, y_pred, pipe_svc.classes_)"
   ]
  },
  {
   "cell_type": "code",
   "execution_count": 62,
   "metadata": {
    "id": "qZSDXLxo3Xm8"
   },
   "outputs": [
    {
     "data": {
      "image/png": "[encoded data removed]",
      "text/plain": [
       "<Figure size 640x480 with 1 Axes>"
      ]
     },
     "metadata": {},
     "output_type": "display_data"
    }
   ],
   "source": [
    "plot_roc_curve(pipe_svc, X_test, y_test)"
   ]
  },
  {
   "cell_type": "code",
   "execution_count": 63,
   "metadata": {
    "id": "IfNfWC2E3Xm8"
   },
   "outputs": [],
   "source": [
    "M['svm'] = {\n",
    "    'model': pipe_svc,\n",
    "    'time': elapsed\n",
    "}"
   ]
  },
  {
   "cell_type": "code",
   "execution_count": 64,
   "metadata": {},
   "outputs": [
    {
     "name": "stdout",
     "output_type": "stream",
     "text": [
      "LAST DUMP\n"
     ]
    }
   ],
   "source": [
    "picker.dump_session('notebook_env.db')\n",
    "print('LAST DUMP')"
   ]
  },
  {
   "cell_type": "markdown",
   "metadata": {
    "id": "E1DYpDYX3Xm8",
    "tags": []
   },
   "source": [
    "## 🧐 Conclusions <a class=\"anchor\" id=\"conclusions\"></a>"
   ]
  },
  {
   "cell_type": "markdown",
   "metadata": {},
   "source": [
    "As we can see in the following lines of code, not only does Multinomial Naive Bayes perform better compared to other models during testing, but also its training time is significantly faster than the others. While the others take almost half an hour and an hour for KNN and SVM respectively, Naive Bayes' training time is less than a minute."
   ]
  },
  {
   "cell_type": "code",
   "execution_count": 65,
   "metadata": {},
   "outputs": [],
   "source": [
    "picker.load_session('notebook_env.db')"
   ]
  },
  {
   "cell_type": "code",
   "execution_count": 72,
   "metadata": {},
   "outputs": [
    {
     "data": {
      "text/html": [
       "<div>\n",
       "<style scoped>\n",
       "    .dataframe tbody tr th:only-of-type {\n",
       "        vertical-align: middle;\n",
       "    }\n",
       "\n",
       "    .dataframe tbody tr th {\n",
       "        vertical-align: top;\n",
       "    }\n",
       "\n",
       "    .dataframe thead th {\n",
       "        text-align: right;\n",
       "    }\n",
       "</style>\n",
       "<table border=\"1\" class=\"dataframe\">\n",
       "  <thead>\n",
       "    <tr style=\"text-align: right;\">\n",
       "      <th></th>\n",
       "      <th>precision_score</th>\n",
       "      <th>recall_score</th>\n",
       "      <th>f1_score</th>\n",
       "      <th>accuracy_score</th>\n",
       "      <th>train_time</th>\n",
       "    </tr>\n",
       "  </thead>\n",
       "  <tbody>\n",
       "    <tr>\n",
       "      <th>multinomial_nb</th>\n",
       "      <td>0.802161</td>\n",
       "      <td>0.802669</td>\n",
       "      <td>0.802027</td>\n",
       "      <td>0.802669</td>\n",
       "      <td>43.321797</td>\n",
       "    </tr>\n",
       "    <tr>\n",
       "      <th>svm</th>\n",
       "      <td>0.748527</td>\n",
       "      <td>0.749483</td>\n",
       "      <td>0.748544</td>\n",
       "      <td>0.749483</td>\n",
       "      <td>3236.434612</td>\n",
       "    </tr>\n",
       "    <tr>\n",
       "      <th>knn</th>\n",
       "      <td>0.315970</td>\n",
       "      <td>0.562112</td>\n",
       "      <td>0.404542</td>\n",
       "      <td>0.562112</td>\n",
       "      <td>1675.106348</td>\n",
       "    </tr>\n",
       "  </tbody>\n",
       "</table>\n",
       "</div>"
      ],
      "text/plain": [
       "                precision_score  recall_score  f1_score  accuracy_score  \\\n",
       "multinomial_nb         0.802161      0.802669  0.802027        0.802669   \n",
       "svm                    0.748527      0.749483  0.748544        0.749483   \n",
       "knn                    0.315970      0.562112  0.404542        0.562112   \n",
       "\n",
       "                 train_time  \n",
       "multinomial_nb    43.321797  \n",
       "svm             3236.434612  \n",
       "knn             1675.106348  "
      ]
     },
     "execution_count": 72,
     "metadata": {},
     "output_type": "execute_result"
    }
   ],
   "source": [
    "import os\n",
    "from sklearn import metrics\n",
    "\n",
    "does_exist = os.path.exists('./metrics.csv')\n",
    "recover = False\n",
    "\n",
    "if does_exist and recover:\n",
    "    df = pd.read_csv('./metrics.csv')\n",
    "else:\n",
    "    precision_score = []\n",
    "    recall_score = []\n",
    "    f1_score = []\n",
    "    accuracy_score = []\n",
    "    times = []\n",
    "    models = []\n",
    "    \n",
    "    for name, data in M.items():\n",
    "        model = data['model']\n",
    "        train_time = data['time']\n",
    "        y_pred = model.predict(X_test)\n",
    "        \n",
    "        models.append(name)\n",
    "        times.append(train_time)\n",
    "        precision_score.append(metrics.precision_score(y_test, y_pred, average='weighted'))\n",
    "        recall_score.append(metrics.recall_score(y_test, y_pred, average='weighted'))\n",
    "        f1_score.append(metrics.f1_score(y_test, y_pred, average='weighted'))\n",
    "        accuracy_score.append(metrics.accuracy_score(y_test , y_pred))\n",
    "    \n",
    "    columns = {\n",
    "        'precision_score': precision_score, \n",
    "        'recall_score': recall_score, \n",
    "        'f1_score': f1_score,\n",
    "        'accuracy_score' : accuracy_score,\n",
    "        'train_time': times\n",
    "    }\n",
    "    \n",
    "    df = pd.DataFrame(columns, index = models)\n",
    "    df.to_csv('metrics.csv', index = True)\n",
    "    \n",
    "df = df.sort_values('f1_score', ascending = False)\n",
    "df"
   ]
  },
  {
   "cell_type": "code",
   "execution_count": 76,
   "metadata": {
    "id": "3VVpKUUbIFtw"
   },
   "outputs": [
    {
     "data": {
      "image/png": "[encoded data removed]",
      "text/plain": [
       "<Figure size 2000x600 with 2 Axes>"
      ]
     },
     "metadata": {},
     "output_type": "display_data"
    }
   ],
   "source": [
    "fig, (ax1, ax2) = plt.subplots(1, 2, figsize=(20, 6))\n",
    "\n",
    "ax = sns.barplot(\n",
    "            data=df, \n",
    "            y=df.index, \n",
    "            x=df[\"accuracy_score\"],\n",
    "            capsize=.4,\n",
    "            linewidth=3, \n",
    "            edgecolor=\".5\", \n",
    "            facecolor=(0, 0, 0, 0),\n",
    "            ax=ax1)\n",
    "_ = ax.axes.set_xlim((0.35, 0.82))\n",
    "_ = ax.axes.set(xlabel =\"Accuracy\")\n",
    "\n",
    "\n",
    "ax = sns.barplot(\n",
    "            data=df, \n",
    "            y=df.index, \n",
    "            x=df[\"f1_score\"],\n",
    "            capsize=.4,\n",
    "            linewidth=3, \n",
    "            edgecolor=\".5\", \n",
    "            facecolor=(0, 0, 0, 0),\n",
    "            ax=ax2)\n",
    "_ = ax.axes.set_xlim((0.35, 0.82))\n",
    "_ = ax.axes.set(xlabel =\"F1 score\")"
   ]
  },
  {
   "cell_type": "code",
   "execution_count": 92,
   "metadata": {
    "id": "3AyHvvsWLTyZ"
   },
   "outputs": [
    {
     "data": {
      "image/png": "[encoded data removed]",
      "text/plain": [
       "<Figure size 1800x600 with 2 Axes>"
      ]
     },
     "metadata": {},
     "output_type": "display_data"
    }
   ],
   "source": [
    "fig, (ax1, ax2) = plt.subplots(1, 2, figsize=(18, 6))\n",
    "\n",
    "ax = sns.scatterplot(\n",
    "    data=df, \n",
    "    y=df[\"train_time\"] // 60,\n",
    "    x=df[\"accuracy_score\"] * 100,\n",
    "    hue=df.index,\n",
    "    marker=\"X\",\n",
    "    ax=ax1)\n",
    "_ = ax.axes.set(ylabel =\"Train time (m)\", xlabel = \"Accuracy (%)\")\n",
    "\n",
    "ax.set_xlim(50, 90)\n",
    "\n",
    "ax = sns.scatterplot(\n",
    "    data=df, \n",
    "    y=df[\"train_time\"] // 60,\n",
    "    x=df[\"f1_score\"] * 100,\n",
    "    hue=df.index,\n",
    "    marker=\"X\",\n",
    "    ax=ax2)\n",
    "_ = ax.axes.set(ylabel =\"Train time (m)\", xlabel = \"F1 score (%)\")"
   ]
  }
 ],
 "metadata": {
  "accelerator": "GPU",
  "colab": {
   "provenance": [],
   "toc_visible": true
  },
  "gpuClass": "standard",
  "kernelspec": {
   "display_name": "Python 3 (ipykernel)",
   "language": "python",
   "name": "python3"
  },
  "language_info": {
   "codemirror_mode": {
    "name": "ipython",
    "version": 3
   },
   "file_extension": ".py",
   "mimetype": "text/x-python",
   "name": "python",
   "nbconvert_exporter": "python",
   "pygments_lexer": "ipython3",
   "version": "3.8.10"
  },
  "toc-autonumbering": true,
  "toc-showmarkdowntxt": true,
  "vscode": {
   "interpreter": {
    "hash": "68c9c9443d441f167e7c83199f2148b0e20195f786a8a249f06e41ba8516d6d3"
   }
  }
 },
 "nbformat": 4,
 "nbformat_minor": 4
}
