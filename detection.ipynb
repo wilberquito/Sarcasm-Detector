{
  "cells": [
    {
      "cell_type": "markdown",
      "metadata": {
        "id": "cDHX6GWx4zzN",
        "tags": []
      },
      "source": [
        "# 📡 Sarcasm detector"
      ]
    },
    {
      "cell_type": "markdown",
      "metadata": {
        "id": "p508hLaD4zzR"
      },
      "source": [
        "Dataset original source:\n",
        "\n",
        "- [Kaggle](https://www.kaggle.com/datasets/rmisra/news-headlines-dataset-for-sarcasm-detection)\n",
        "\n",
        "Build a predictive model\n",
        "\n",
        "- Compare: NB, KNN, SVM\n",
        "\n",
        "Theorical sources\n",
        "\n",
        "- [NB](https://en.wikipedia.org/wiki/Naive_Bayes_classifier)\n",
        "- [KNN](https://www.codecademy.com/learn/introduction-to-supervised-learning-skill-path/modules/k-nearest-neighbors-skill-path/cheatsheet)\n",
        "- [SVM](https://es.wikipedia.org/wiki/M%C3%A1quinas_de_vectores_de_soporte)\n",
        "- [ROC curve](https://stackabuse.com/understanding-roc-curves-with-python/)\n",
        "\n",
        "Sklearn references\n",
        "\n",
        "- [Column Transformer](https://scikit-learn.org/stable/modules/generated/sklearn.compose.make_column_transformer.html)\n",
        "- [One Hot Encoder](https://datagy.io/sklearn-one-hot-encode/)\n",
        "- [Text feature extraction](https://scikit-learn.org/stable/modules/feature_extraction.html#text-feature-extraction)\n",
        "- [NB](https://scikit-learn.org/stable/modules/naive_bayes.html)\n",
        "- [KNN](https://scikit-learn.org/stable/modules/generated/sklearn.neighbors.KNeighborsClassifier.html)\n",
        "- [SVM](https://scikit-learn.org/stable/modules/generated/sklearn.svm.SVC.html)\n",
        "- [ROC curve](https://scikit-learn.org/stable/modules/generated/sklearn.metrics.RocCurveDisplay.html)\n",
        "- [Hyper parameter tunning](https://medium.com/@kocur4d/hyper-parameter-tuning-with-pipelines-5310aff069d6)"
      ]
    },
    {
      "cell_type": "markdown",
      "metadata": {
        "id": "I3OYFWxF3Xmv"
      },
      "source": [
        "## 🏷 Table of content\n",
        "* [Libraries](#libraries)\n",
        "* [The data](#the-data)\n",
        "* [Exploratory data analysis](#exploratory-data-analysis)\n",
        "* [How to vectorize text](#how-to-vectorize-text)\n",
        "* [End to end modeling](#end-to-end-modeling)\n",
        "* [Conclusions](#conclusions)"
      ]
    },
    {
      "cell_type": "markdown",
      "metadata": {
        "id": "M2KJcP0-4zzS",
        "jp-MarkdownHeadingCollapsed": true,
        "tags": []
      },
      "source": [
        "## 📝 Libraries <a class=\"anchor\" id=\"libraries\"></a>"
      ]
    },
    {
      "cell_type": "code",
      "execution_count": 41,
      "metadata": {
        "id": "RH2PBgaH4zzS",
        "outputId": "cb3427bd-28dc-4179-9b92-6dc71bc93661",
        "colab": {
          "base_uri": "https://localhost:8080/"
        }
      },
      "outputs": [
        {
          "output_type": "stream",
          "name": "stderr",
          "text": [
            "[nltk_data] Downloading package stopwords to /root/nltk_data...\n",
            "[nltk_data]   Package stopwords is already up-to-date!\n",
            "[nltk_data] Downloading package wordnet to /root/nltk_data...\n",
            "[nltk_data]   Package wordnet is already up-to-date!\n",
            "[nltk_data] Downloading package omw-1.4 to /root/nltk_data...\n"
          ]
        }
      ],
      "source": [
        "import pandas as pd\n",
        "import numpy as np\n",
        "import matplotlib.pyplot as plt\n",
        "import seaborn as sns\n",
        "import re\n",
        "import string\n",
        "from wordcloud import WordCloud\n",
        "import scipy\n",
        "from time import time\n",
        "\n",
        "import nltk\n",
        "nltk.download('stopwords')\n",
        "nltk.download('wordnet')\n",
        "nltk.download('omw-1.4')\n",
        "\n",
        "import warnings\n",
        "warnings.filterwarnings('ignore')"
      ]
    },
    {
      "cell_type": "markdown",
      "metadata": {
        "id": "HjdiHzCB4zzT",
        "jp-MarkdownHeadingCollapsed": true,
        "tags": []
      },
      "source": [
        "## 🔡 The data <a class=\"anchor\" id=\"the-data\"></a>"
      ]
    },
    {
      "cell_type": "code",
      "execution_count": 42,
      "metadata": {
        "id": "pmuNjTBz4zzU"
      },
      "outputs": [],
      "source": [
        "dataset_name = 'Sarcasm_Headlines_Dataset.json'\n",
        "X_a = pd.read_json(dataset_name, lines=True)"
      ]
    },
    {
      "cell_type": "code",
      "execution_count": 43,
      "metadata": {
        "id": "fBHdPkyG4zzU",
        "outputId": "21d86b0e-cbea-4ef0-ae7d-97445aadf209",
        "colab": {
          "base_uri": "https://localhost:8080/",
          "height": 206
        }
      },
      "outputs": [
        {
          "output_type": "execute_result",
          "data": {
            "text/plain": [
              "                                        article_link  \\\n",
              "0  https://www.huffingtonpost.com/entry/versace-b...   \n",
              "1  https://www.huffingtonpost.com/entry/roseanne-...   \n",
              "2  https://local.theonion.com/mom-starting-to-fea...   \n",
              "3  https://politics.theonion.com/boehner-just-wan...   \n",
              "4  https://www.huffingtonpost.com/entry/jk-rowlin...   \n",
              "\n",
              "                                            headline  is_sarcastic  \n",
              "0  former versace store clerk sues over secret 'b...             0  \n",
              "1  the 'roseanne' revival catches up to our thorn...             0  \n",
              "2  mom starting to fear son's web series closest ...             1  \n",
              "3  boehner just wants wife to listen, not come up...             1  \n",
              "4  j.k. rowling wishes snape happy birthday in th...             0  "
            ],
            "text/html": [
              "\n",
              "  <div id=\"df-297b68b4-ae49-4b45-981e-bf962c76ad0e\">\n",
              "    <div class=\"colab-df-container\">\n",
              "      <div>\n",
              "<style scoped>\n",
              "    .dataframe tbody tr th:only-of-type {\n",
              "        vertical-align: middle;\n",
              "    }\n",
              "\n",
              "    .dataframe tbody tr th {\n",
              "        vertical-align: top;\n",
              "    }\n",
              "\n",
              "    .dataframe thead th {\n",
              "        text-align: right;\n",
              "    }\n",
              "</style>\n",
              "<table border=\"1\" class=\"dataframe\">\n",
              "  <thead>\n",
              "    <tr style=\"text-align: right;\">\n",
              "      <th></th>\n",
              "      <th>article_link</th>\n",
              "      <th>headline</th>\n",
              "      <th>is_sarcastic</th>\n",
              "    </tr>\n",
              "  </thead>\n",
              "  <tbody>\n",
              "    <tr>\n",
              "      <th>0</th>\n",
              "      <td>https://www.huffingtonpost.com/entry/versace-b...</td>\n",
              "      <td>former versace store clerk sues over secret 'b...</td>\n",
              "      <td>0</td>\n",
              "    </tr>\n",
              "    <tr>\n",
              "      <th>1</th>\n",
              "      <td>https://www.huffingtonpost.com/entry/roseanne-...</td>\n",
              "      <td>the 'roseanne' revival catches up to our thorn...</td>\n",
              "      <td>0</td>\n",
              "    </tr>\n",
              "    <tr>\n",
              "      <th>2</th>\n",
              "      <td>https://local.theonion.com/mom-starting-to-fea...</td>\n",
              "      <td>mom starting to fear son's web series closest ...</td>\n",
              "      <td>1</td>\n",
              "    </tr>\n",
              "    <tr>\n",
              "      <th>3</th>\n",
              "      <td>https://politics.theonion.com/boehner-just-wan...</td>\n",
              "      <td>boehner just wants wife to listen, not come up...</td>\n",
              "      <td>1</td>\n",
              "    </tr>\n",
              "    <tr>\n",
              "      <th>4</th>\n",
              "      <td>https://www.huffingtonpost.com/entry/jk-rowlin...</td>\n",
              "      <td>j.k. rowling wishes snape happy birthday in th...</td>\n",
              "      <td>0</td>\n",
              "    </tr>\n",
              "  </tbody>\n",
              "</table>\n",
              "</div>\n",
              "      <button class=\"colab-df-convert\" onclick=\"convertToInteractive('df-297b68b4-ae49-4b45-981e-bf962c76ad0e')\"\n",
              "              title=\"Convert this dataframe to an interactive table.\"\n",
              "              style=\"display:none;\">\n",
              "        \n",
              "  <svg xmlns=\"http://www.w3.org/2000/svg\" height=\"24px\"viewBox=\"0 0 24 24\"\n",
              "       width=\"24px\">\n",
              "    <path d=\"M0 0h24v24H0V0z\" fill=\"none\"/>\n",
              "    <path d=\"M18.56 5.44l.94 2.06.94-2.06 2.06-.94-2.06-.94-.94-2.06-.94 2.06-2.06.94zm-11 1L8.5 8.5l.94-2.06 2.06-.94-2.06-.94L8.5 2.5l-.94 2.06-2.06.94zm10 10l.94 2.06.94-2.06 2.06-.94-2.06-.94-.94-2.06-.94 2.06-2.06.94z\"/><path d=\"M17.41 7.96l-1.37-1.37c-.4-.4-.92-.59-1.43-.59-.52 0-1.04.2-1.43.59L10.3 9.45l-7.72 7.72c-.78.78-.78 2.05 0 2.83L4 21.41c.39.39.9.59 1.41.59.51 0 1.02-.2 1.41-.59l7.78-7.78 2.81-2.81c.8-.78.8-2.07 0-2.86zM5.41 20L4 18.59l7.72-7.72 1.47 1.35L5.41 20z\"/>\n",
              "  </svg>\n",
              "      </button>\n",
              "      \n",
              "  <style>\n",
              "    .colab-df-container {\n",
              "      display:flex;\n",
              "      flex-wrap:wrap;\n",
              "      gap: 12px;\n",
              "    }\n",
              "\n",
              "    .colab-df-convert {\n",
              "      background-color: #E8F0FE;\n",
              "      border: none;\n",
              "      border-radius: 50%;\n",
              "      cursor: pointer;\n",
              "      display: none;\n",
              "      fill: #1967D2;\n",
              "      height: 32px;\n",
              "      padding: 0 0 0 0;\n",
              "      width: 32px;\n",
              "    }\n",
              "\n",
              "    .colab-df-convert:hover {\n",
              "      background-color: #E2EBFA;\n",
              "      box-shadow: 0px 1px 2px rgba(60, 64, 67, 0.3), 0px 1px 3px 1px rgba(60, 64, 67, 0.15);\n",
              "      fill: #174EA6;\n",
              "    }\n",
              "\n",
              "    [theme=dark] .colab-df-convert {\n",
              "      background-color: #3B4455;\n",
              "      fill: #D2E3FC;\n",
              "    }\n",
              "\n",
              "    [theme=dark] .colab-df-convert:hover {\n",
              "      background-color: #434B5C;\n",
              "      box-shadow: 0px 1px 3px 1px rgba(0, 0, 0, 0.15);\n",
              "      filter: drop-shadow(0px 1px 2px rgba(0, 0, 0, 0.3));\n",
              "      fill: #FFFFFF;\n",
              "    }\n",
              "  </style>\n",
              "\n",
              "      <script>\n",
              "        const buttonEl =\n",
              "          document.querySelector('#df-297b68b4-ae49-4b45-981e-bf962c76ad0e button.colab-df-convert');\n",
              "        buttonEl.style.display =\n",
              "          google.colab.kernel.accessAllowed ? 'block' : 'none';\n",
              "\n",
              "        async function convertToInteractive(key) {\n",
              "          const element = document.querySelector('#df-297b68b4-ae49-4b45-981e-bf962c76ad0e');\n",
              "          const dataTable =\n",
              "            await google.colab.kernel.invokeFunction('convertToInteractive',\n",
              "                                                     [key], {});\n",
              "          if (!dataTable) return;\n",
              "\n",
              "          const docLinkHtml = 'Like what you see? Visit the ' +\n",
              "            '<a target=\"_blank\" href=https://colab.research.google.com/notebooks/data_table.ipynb>data table notebook</a>'\n",
              "            + ' to learn more about interactive tables.';\n",
              "          element.innerHTML = '';\n",
              "          dataTable['output_type'] = 'display_data';\n",
              "          await google.colab.output.renderOutput(dataTable, element);\n",
              "          const docLink = document.createElement('div');\n",
              "          docLink.innerHTML = docLinkHtml;\n",
              "          element.appendChild(docLink);\n",
              "        }\n",
              "      </script>\n",
              "    </div>\n",
              "  </div>\n",
              "  "
            ]
          },
          "metadata": {},
          "execution_count": 43
        }
      ],
      "source": [
        "X_a.head()"
      ]
    },
    {
      "cell_type": "markdown",
      "metadata": {
        "id": "22msp2ay4zzV",
        "jp-MarkdownHeadingCollapsed": true,
        "tags": []
      },
      "source": [
        "## 🕵 Exploratory data analysis <a class=\"anchor\" id=\"exploratory-data-analysis\"></a>"
      ]
    },
    {
      "cell_type": "code",
      "execution_count": 44,
      "metadata": {
        "id": "VK5oGj-U4zzV",
        "outputId": "2d8a05dc-bf87-4f03-89f8-5182d2ec5511",
        "colab": {
          "base_uri": "https://localhost:8080/"
        }
      },
      "outputs": [
        {
          "output_type": "execute_result",
          "data": {
            "text/plain": [
              "(26709, 3)"
            ]
          },
          "metadata": {},
          "execution_count": 44
        }
      ],
      "source": [
        "X_a.shape"
      ]
    },
    {
      "cell_type": "code",
      "execution_count": 45,
      "metadata": {
        "id": "jDRY498l4zzW",
        "outputId": "3076c1d5-dcb3-4df7-f3e3-58d8d0400a38",
        "colab": {
          "base_uri": "https://localhost:8080/"
        }
      },
      "outputs": [
        {
          "output_type": "stream",
          "name": "stdout",
          "text": [
            "<class 'pandas.core.frame.DataFrame'>\n",
            "RangeIndex: 26709 entries, 0 to 26708\n",
            "Data columns (total 3 columns):\n",
            " #   Column        Non-Null Count  Dtype \n",
            "---  ------        --------------  ----- \n",
            " 0   article_link  26709 non-null  object\n",
            " 1   headline      26709 non-null  object\n",
            " 2   is_sarcastic  26709 non-null  int64 \n",
            "dtypes: int64(1), object(2)\n",
            "memory usage: 626.1+ KB\n"
          ]
        }
      ],
      "source": [
        "X_a.info()"
      ]
    },
    {
      "cell_type": "code",
      "execution_count": 46,
      "metadata": {
        "id": "WHMI_t-m4zzW",
        "outputId": "e12f68f8-fec8-4c42-a33e-cafc90e204ba",
        "colab": {
          "base_uri": "https://localhost:8080/"
        }
      },
      "outputs": [
        {
          "output_type": "execute_result",
          "data": {
            "text/plain": [
              "article_link    0\n",
              "headline        0\n",
              "is_sarcastic    0\n",
              "dtype: int64"
            ]
          },
          "metadata": {},
          "execution_count": 46
        }
      ],
      "source": [
        "X_a.isna().sum()"
      ]
    },
    {
      "cell_type": "markdown",
      "metadata": {
        "id": "4sqJTlHd4zzW"
      },
      "source": [
        "### Get ride of duplicated headlines"
      ]
    },
    {
      "cell_type": "code",
      "execution_count": 47,
      "metadata": {
        "id": "ELmG8MIC4zzW",
        "outputId": "1f313db4-0a7a-47ac-c312-d164e49b4f5e",
        "colab": {
          "base_uri": "https://localhost:8080/"
        }
      },
      "outputs": [
        {
          "output_type": "execute_result",
          "data": {
            "text/plain": [
              "107"
            ]
          },
          "metadata": {},
          "execution_count": 47
        }
      ],
      "source": [
        "X_a['headline'].duplicated().sum()"
      ]
    },
    {
      "cell_type": "code",
      "execution_count": 48,
      "metadata": {
        "id": "_VyWlisz4zzW",
        "outputId": "1be27b59-e654-4510-a4d1-2395a1d09832",
        "colab": {
          "base_uri": "https://localhost:8080/"
        }
      },
      "outputs": [
        {
          "output_type": "execute_result",
          "data": {
            "text/plain": [
              "Int64Index([ 1091,  2265,  2975,  3802,  4605,  5154,  5789,  6383,  6642,\n",
              "             6685,\n",
              "            ...\n",
              "            25115, 25118, 25855, 25995, 26026, 26121, 26156, 26353, 26500,\n",
              "            26615],\n",
              "           dtype='int64', length=107)"
            ]
          },
          "metadata": {},
          "execution_count": 48
        }
      ],
      "source": [
        "X_a[X_a['headline'].duplicated()].index"
      ]
    },
    {
      "cell_type": "code",
      "execution_count": 49,
      "metadata": {
        "id": "AgcMQ7Go4zzX"
      },
      "outputs": [],
      "source": [
        "X_a = X_a.drop(X_a[X_a['headline'].duplicated()].index, axis=0)"
      ]
    },
    {
      "cell_type": "code",
      "execution_count": 50,
      "metadata": {
        "id": "ZdP6qzpg4zzX",
        "outputId": "e96c782a-d4ff-41d1-e044-a6ebe1fa986f",
        "colab": {
          "base_uri": "https://localhost:8080/"
        }
      },
      "outputs": [
        {
          "output_type": "execute_result",
          "data": {
            "text/plain": [
              "0"
            ]
          },
          "metadata": {},
          "execution_count": 50
        }
      ],
      "source": [
        "X_a['headline'].duplicated().sum()"
      ]
    },
    {
      "cell_type": "code",
      "execution_count": 51,
      "metadata": {
        "id": "TcBywZNu4zzX",
        "outputId": "264a8fed-b718-471f-c605-449ae24e5239",
        "colab": {
          "base_uri": "https://localhost:8080/"
        }
      },
      "outputs": [
        {
          "output_type": "execute_result",
          "data": {
            "text/plain": [
              "(26602, 3)"
            ]
          },
          "metadata": {},
          "execution_count": 51
        }
      ],
      "source": [
        "X_a.shape"
      ]
    },
    {
      "cell_type": "markdown",
      "metadata": {
        "tags": [],
        "id": "Kr_lVkaZ3Xmy"
      },
      "source": [
        "### Get ride of duplicate features"
      ]
    },
    {
      "cell_type": "markdown",
      "metadata": {
        "id": "i0HRjigg4zzX"
      },
      "source": [
        "#### The transmitter"
      ]
    },
    {
      "cell_type": "code",
      "execution_count": 52,
      "metadata": {
        "id": "JWBOtt_94zzX"
      },
      "outputs": [],
      "source": [
        "df = X_a.copy()"
      ]
    },
    {
      "cell_type": "code",
      "execution_count": 53,
      "metadata": {
        "id": "UzBWgmFE4zzY",
        "outputId": "056475d4-162b-4e1d-8f1d-ce97b5dfb390",
        "colab": {
          "base_uri": "https://localhost:8080/",
          "height": 206
        }
      },
      "outputs": [
        {
          "output_type": "execute_result",
          "data": {
            "text/plain": [
              "                                        article_link  \\\n",
              "0  https://www.huffingtonpost.com/entry/versace-b...   \n",
              "1  https://www.huffingtonpost.com/entry/roseanne-...   \n",
              "2  https://local.theonion.com/mom-starting-to-fea...   \n",
              "3  https://politics.theonion.com/boehner-just-wan...   \n",
              "4  https://www.huffingtonpost.com/entry/jk-rowlin...   \n",
              "\n",
              "                                            headline  is_sarcastic  \\\n",
              "0  former versace store clerk sues over secret 'b...             0   \n",
              "1  the 'roseanne' revival catches up to our thorn...             0   \n",
              "2  mom starting to fear son's web series closest ...             1   \n",
              "3  boehner just wants wife to listen, not come up...             1   \n",
              "4  j.k. rowling wishes snape happy birthday in th...             0   \n",
              "\n",
              "      transmitter  \n",
              "0  huffingtonpost  \n",
              "1  huffingtonpost  \n",
              "2        theonion  \n",
              "3        theonion  \n",
              "4  huffingtonpost  "
            ],
            "text/html": [
              "\n",
              "  <div id=\"df-e97cfa98-41dc-457e-8a05-521cdebf66ae\">\n",
              "    <div class=\"colab-df-container\">\n",
              "      <div>\n",
              "<style scoped>\n",
              "    .dataframe tbody tr th:only-of-type {\n",
              "        vertical-align: middle;\n",
              "    }\n",
              "\n",
              "    .dataframe tbody tr th {\n",
              "        vertical-align: top;\n",
              "    }\n",
              "\n",
              "    .dataframe thead th {\n",
              "        text-align: right;\n",
              "    }\n",
              "</style>\n",
              "<table border=\"1\" class=\"dataframe\">\n",
              "  <thead>\n",
              "    <tr style=\"text-align: right;\">\n",
              "      <th></th>\n",
              "      <th>article_link</th>\n",
              "      <th>headline</th>\n",
              "      <th>is_sarcastic</th>\n",
              "      <th>transmitter</th>\n",
              "    </tr>\n",
              "  </thead>\n",
              "  <tbody>\n",
              "    <tr>\n",
              "      <th>0</th>\n",
              "      <td>https://www.huffingtonpost.com/entry/versace-b...</td>\n",
              "      <td>former versace store clerk sues over secret 'b...</td>\n",
              "      <td>0</td>\n",
              "      <td>huffingtonpost</td>\n",
              "    </tr>\n",
              "    <tr>\n",
              "      <th>1</th>\n",
              "      <td>https://www.huffingtonpost.com/entry/roseanne-...</td>\n",
              "      <td>the 'roseanne' revival catches up to our thorn...</td>\n",
              "      <td>0</td>\n",
              "      <td>huffingtonpost</td>\n",
              "    </tr>\n",
              "    <tr>\n",
              "      <th>2</th>\n",
              "      <td>https://local.theonion.com/mom-starting-to-fea...</td>\n",
              "      <td>mom starting to fear son's web series closest ...</td>\n",
              "      <td>1</td>\n",
              "      <td>theonion</td>\n",
              "    </tr>\n",
              "    <tr>\n",
              "      <th>3</th>\n",
              "      <td>https://politics.theonion.com/boehner-just-wan...</td>\n",
              "      <td>boehner just wants wife to listen, not come up...</td>\n",
              "      <td>1</td>\n",
              "      <td>theonion</td>\n",
              "    </tr>\n",
              "    <tr>\n",
              "      <th>4</th>\n",
              "      <td>https://www.huffingtonpost.com/entry/jk-rowlin...</td>\n",
              "      <td>j.k. rowling wishes snape happy birthday in th...</td>\n",
              "      <td>0</td>\n",
              "      <td>huffingtonpost</td>\n",
              "    </tr>\n",
              "  </tbody>\n",
              "</table>\n",
              "</div>\n",
              "      <button class=\"colab-df-convert\" onclick=\"convertToInteractive('df-e97cfa98-41dc-457e-8a05-521cdebf66ae')\"\n",
              "              title=\"Convert this dataframe to an interactive table.\"\n",
              "              style=\"display:none;\">\n",
              "        \n",
              "  <svg xmlns=\"http://www.w3.org/2000/svg\" height=\"24px\"viewBox=\"0 0 24 24\"\n",
              "       width=\"24px\">\n",
              "    <path d=\"M0 0h24v24H0V0z\" fill=\"none\"/>\n",
              "    <path d=\"M18.56 5.44l.94 2.06.94-2.06 2.06-.94-2.06-.94-.94-2.06-.94 2.06-2.06.94zm-11 1L8.5 8.5l.94-2.06 2.06-.94-2.06-.94L8.5 2.5l-.94 2.06-2.06.94zm10 10l.94 2.06.94-2.06 2.06-.94-2.06-.94-.94-2.06-.94 2.06-2.06.94z\"/><path d=\"M17.41 7.96l-1.37-1.37c-.4-.4-.92-.59-1.43-.59-.52 0-1.04.2-1.43.59L10.3 9.45l-7.72 7.72c-.78.78-.78 2.05 0 2.83L4 21.41c.39.39.9.59 1.41.59.51 0 1.02-.2 1.41-.59l7.78-7.78 2.81-2.81c.8-.78.8-2.07 0-2.86zM5.41 20L4 18.59l7.72-7.72 1.47 1.35L5.41 20z\"/>\n",
              "  </svg>\n",
              "      </button>\n",
              "      \n",
              "  <style>\n",
              "    .colab-df-container {\n",
              "      display:flex;\n",
              "      flex-wrap:wrap;\n",
              "      gap: 12px;\n",
              "    }\n",
              "\n",
              "    .colab-df-convert {\n",
              "      background-color: #E8F0FE;\n",
              "      border: none;\n",
              "      border-radius: 50%;\n",
              "      cursor: pointer;\n",
              "      display: none;\n",
              "      fill: #1967D2;\n",
              "      height: 32px;\n",
              "      padding: 0 0 0 0;\n",
              "      width: 32px;\n",
              "    }\n",
              "\n",
              "    .colab-df-convert:hover {\n",
              "      background-color: #E2EBFA;\n",
              "      box-shadow: 0px 1px 2px rgba(60, 64, 67, 0.3), 0px 1px 3px 1px rgba(60, 64, 67, 0.15);\n",
              "      fill: #174EA6;\n",
              "    }\n",
              "\n",
              "    [theme=dark] .colab-df-convert {\n",
              "      background-color: #3B4455;\n",
              "      fill: #D2E3FC;\n",
              "    }\n",
              "\n",
              "    [theme=dark] .colab-df-convert:hover {\n",
              "      background-color: #434B5C;\n",
              "      box-shadow: 0px 1px 3px 1px rgba(0, 0, 0, 0.15);\n",
              "      filter: drop-shadow(0px 1px 2px rgba(0, 0, 0, 0.3));\n",
              "      fill: #FFFFFF;\n",
              "    }\n",
              "  </style>\n",
              "\n",
              "      <script>\n",
              "        const buttonEl =\n",
              "          document.querySelector('#df-e97cfa98-41dc-457e-8a05-521cdebf66ae button.colab-df-convert');\n",
              "        buttonEl.style.display =\n",
              "          google.colab.kernel.accessAllowed ? 'block' : 'none';\n",
              "\n",
              "        async function convertToInteractive(key) {\n",
              "          const element = document.querySelector('#df-e97cfa98-41dc-457e-8a05-521cdebf66ae');\n",
              "          const dataTable =\n",
              "            await google.colab.kernel.invokeFunction('convertToInteractive',\n",
              "                                                     [key], {});\n",
              "          if (!dataTable) return;\n",
              "\n",
              "          const docLinkHtml = 'Like what you see? Visit the ' +\n",
              "            '<a target=\"_blank\" href=https://colab.research.google.com/notebooks/data_table.ipynb>data table notebook</a>'\n",
              "            + ' to learn more about interactive tables.';\n",
              "          element.innerHTML = '';\n",
              "          dataTable['output_type'] = 'display_data';\n",
              "          await google.colab.output.renderOutput(dataTable, element);\n",
              "          const docLink = document.createElement('div');\n",
              "          docLink.innerHTML = docLinkHtml;\n",
              "          element.appendChild(docLink);\n",
              "        }\n",
              "      </script>\n",
              "    </div>\n",
              "  </div>\n",
              "  "
            ]
          },
          "metadata": {},
          "execution_count": 53
        }
      ],
      "source": [
        "extract_transmitter = lambda url : url.split('.')[1]\n",
        "df['transmitter'] = df['article_link'].apply(extract_transmitter)\n",
        "df.head()"
      ]
    },
    {
      "cell_type": "markdown",
      "metadata": {
        "id": "5vboDihi4zzY"
      },
      "source": [
        "#### Sarcastic distribution"
      ]
    },
    {
      "cell_type": "code",
      "execution_count": 54,
      "metadata": {
        "id": "UVLyYpXE4zzY",
        "outputId": "9111c5b8-e2e6-47c2-f2c0-77bf39a86453",
        "colab": {
          "base_uri": "https://localhost:8080/",
          "height": 285
        }
      },
      "outputs": [
        {
          "output_type": "display_data",
          "data": {
            "text/plain": [
              "<Figure size 432x288 with 1 Axes>"
            ],
            "image/png": "[encoded data removed]"
          },
          "metadata": {}
        }
      ],
      "source": [
        "# here I notice that the dependent variable is unbalanced.\n",
        "# there are arround 4K more samples of non sarcastic headlines\n",
        "sns.set_theme(style='whitegrid')\n",
        "ax = sns.countplot(x='is_sarcastic', data=df)"
      ]
    },
    {
      "cell_type": "markdown",
      "metadata": {
        "id": "zedquPd64zzY"
      },
      "source": [
        "#### Transmitter distribution"
      ]
    },
    {
      "cell_type": "code",
      "execution_count": 55,
      "metadata": {
        "id": "1qGV4Iqq4zzY",
        "outputId": "069e8209-8e8d-40ad-aa6d-a0ee4539b1d9",
        "colab": {
          "base_uri": "https://localhost:8080/",
          "height": 285
        }
      },
      "outputs": [
        {
          "output_type": "display_data",
          "data": {
            "text/plain": [
              "<Figure size 432x288 with 1 Axes>"
            ],
            "image/png": "[encoded data removed]"
          },
          "metadata": {}
        }
      ],
      "source": [
        "# here I notice that the dependent variable is unbalanced. Not that much yet unbalanced\n",
        "sns.set_theme(style='whitegrid')\n",
        "ax = sns.countplot(x='transmitter', data=df)"
      ]
    },
    {
      "cell_type": "markdown",
      "metadata": {
        "id": "2CBBFYNW4zzY"
      },
      "source": [
        "#### Linear correlation between features"
      ]
    },
    {
      "cell_type": "markdown",
      "metadata": {
        "id": "8qGLZQ5n4zzZ"
      },
      "source": [
        "I noticed that the countplots from **trasnsmitter distribution** and **sarcastic distribution** are quite similar. I want to know if they are that much related"
      ]
    },
    {
      "cell_type": "code",
      "execution_count": 56,
      "metadata": {
        "id": "b9B1Y0k84zzZ"
      },
      "outputs": [],
      "source": [
        "from pandas import factorize\n",
        "\n",
        "columns = ['transmitter', 'is_sarcastic']\n",
        "X = df[columns]\n",
        "X.loc[:, 'transmitter'] = factorize(X['transmitter'])[0]"
      ]
    },
    {
      "cell_type": "markdown",
      "metadata": {
        "id": "feJdhwfE4zzZ"
      },
      "source": [
        "It's important to note that a matrix of all ones is a very unlikely scenario in real-world data, as it would indicate that all of the variables are perfectly related and there is no variability or uniqueness in the data. However, with this information I deduce that **theonion** source always throw sarcastic headlines meanwhile **huffingtonpost** always gives non-sarcastic headlines.\n",
        "\n",
        "The conclusion here is that if I mantein the **transmitter** feature created from feature engineering I am more like to create an acurate model with the disatventage to need the source emitter."
      ]
    },
    {
      "cell_type": "code",
      "execution_count": 57,
      "metadata": {
        "id": "WPi3A8rf4zzZ",
        "outputId": "9b49b571-9f78-4fa4-a15a-801069e8f793",
        "colab": {
          "base_uri": "https://localhost:8080/",
          "height": 150
        }
      },
      "outputs": [
        {
          "output_type": "execute_result",
          "data": {
            "text/plain": [
              "              transmitter  is_sarcastic\n",
              "transmitter           1.0           1.0\n",
              "is_sarcastic          1.0           1.0"
            ],
            "text/html": [
              "\n",
              "  <div id=\"df-757e52b9-cc37-4033-9002-962f5893e11c\">\n",
              "    <div class=\"colab-df-container\">\n",
              "      <div>\n",
              "<style scoped>\n",
              "    .dataframe tbody tr th:only-of-type {\n",
              "        vertical-align: middle;\n",
              "    }\n",
              "\n",
              "    .dataframe tbody tr th {\n",
              "        vertical-align: top;\n",
              "    }\n",
              "\n",
              "    .dataframe thead th {\n",
              "        text-align: right;\n",
              "    }\n",
              "</style>\n",
              "<table border=\"1\" class=\"dataframe\">\n",
              "  <thead>\n",
              "    <tr style=\"text-align: right;\">\n",
              "      <th></th>\n",
              "      <th>transmitter</th>\n",
              "      <th>is_sarcastic</th>\n",
              "    </tr>\n",
              "  </thead>\n",
              "  <tbody>\n",
              "    <tr>\n",
              "      <th>transmitter</th>\n",
              "      <td>1.0</td>\n",
              "      <td>1.0</td>\n",
              "    </tr>\n",
              "    <tr>\n",
              "      <th>is_sarcastic</th>\n",
              "      <td>1.0</td>\n",
              "      <td>1.0</td>\n",
              "    </tr>\n",
              "  </tbody>\n",
              "</table>\n",
              "</div>\n",
              "      <button class=\"colab-df-convert\" onclick=\"convertToInteractive('df-757e52b9-cc37-4033-9002-962f5893e11c')\"\n",
              "              title=\"Convert this dataframe to an interactive table.\"\n",
              "              style=\"display:none;\">\n",
              "        \n",
              "  <svg xmlns=\"http://www.w3.org/2000/svg\" height=\"24px\"viewBox=\"0 0 24 24\"\n",
              "       width=\"24px\">\n",
              "    <path d=\"M0 0h24v24H0V0z\" fill=\"none\"/>\n",
              "    <path d=\"M18.56 5.44l.94 2.06.94-2.06 2.06-.94-2.06-.94-.94-2.06-.94 2.06-2.06.94zm-11 1L8.5 8.5l.94-2.06 2.06-.94-2.06-.94L8.5 2.5l-.94 2.06-2.06.94zm10 10l.94 2.06.94-2.06 2.06-.94-2.06-.94-.94-2.06-.94 2.06-2.06.94z\"/><path d=\"M17.41 7.96l-1.37-1.37c-.4-.4-.92-.59-1.43-.59-.52 0-1.04.2-1.43.59L10.3 9.45l-7.72 7.72c-.78.78-.78 2.05 0 2.83L4 21.41c.39.39.9.59 1.41.59.51 0 1.02-.2 1.41-.59l7.78-7.78 2.81-2.81c.8-.78.8-2.07 0-2.86zM5.41 20L4 18.59l7.72-7.72 1.47 1.35L5.41 20z\"/>\n",
              "  </svg>\n",
              "      </button>\n",
              "      \n",
              "  <style>\n",
              "    .colab-df-container {\n",
              "      display:flex;\n",
              "      flex-wrap:wrap;\n",
              "      gap: 12px;\n",
              "    }\n",
              "\n",
              "    .colab-df-convert {\n",
              "      background-color: #E8F0FE;\n",
              "      border: none;\n",
              "      border-radius: 50%;\n",
              "      cursor: pointer;\n",
              "      display: none;\n",
              "      fill: #1967D2;\n",
              "      height: 32px;\n",
              "      padding: 0 0 0 0;\n",
              "      width: 32px;\n",
              "    }\n",
              "\n",
              "    .colab-df-convert:hover {\n",
              "      background-color: #E2EBFA;\n",
              "      box-shadow: 0px 1px 2px rgba(60, 64, 67, 0.3), 0px 1px 3px 1px rgba(60, 64, 67, 0.15);\n",
              "      fill: #174EA6;\n",
              "    }\n",
              "\n",
              "    [theme=dark] .colab-df-convert {\n",
              "      background-color: #3B4455;\n",
              "      fill: #D2E3FC;\n",
              "    }\n",
              "\n",
              "    [theme=dark] .colab-df-convert:hover {\n",
              "      background-color: #434B5C;\n",
              "      box-shadow: 0px 1px 3px 1px rgba(0, 0, 0, 0.15);\n",
              "      filter: drop-shadow(0px 1px 2px rgba(0, 0, 0, 0.3));\n",
              "      fill: #FFFFFF;\n",
              "    }\n",
              "  </style>\n",
              "\n",
              "      <script>\n",
              "        const buttonEl =\n",
              "          document.querySelector('#df-757e52b9-cc37-4033-9002-962f5893e11c button.colab-df-convert');\n",
              "        buttonEl.style.display =\n",
              "          google.colab.kernel.accessAllowed ? 'block' : 'none';\n",
              "\n",
              "        async function convertToInteractive(key) {\n",
              "          const element = document.querySelector('#df-757e52b9-cc37-4033-9002-962f5893e11c');\n",
              "          const dataTable =\n",
              "            await google.colab.kernel.invokeFunction('convertToInteractive',\n",
              "                                                     [key], {});\n",
              "          if (!dataTable) return;\n",
              "\n",
              "          const docLinkHtml = 'Like what you see? Visit the ' +\n",
              "            '<a target=\"_blank\" href=https://colab.research.google.com/notebooks/data_table.ipynb>data table notebook</a>'\n",
              "            + ' to learn more about interactive tables.';\n",
              "          element.innerHTML = '';\n",
              "          dataTable['output_type'] = 'display_data';\n",
              "          await google.colab.output.renderOutput(dataTable, element);\n",
              "          const docLink = document.createElement('div');\n",
              "          docLink.innerHTML = docLinkHtml;\n",
              "          element.appendChild(docLink);\n",
              "        }\n",
              "      </script>\n",
              "    </div>\n",
              "  </div>\n",
              "  "
            ]
          },
          "metadata": {},
          "execution_count": 57
        }
      ],
      "source": [
        "# calculate the correlation matrix\n",
        "corr = X.corr()\n",
        "corr"
      ]
    },
    {
      "cell_type": "markdown",
      "metadata": {
        "id": "eTQLtF2X4zzZ",
        "jp-MarkdownHeadingCollapsed": true,
        "tags": []
      },
      "source": [
        "## 🔨 How to vectorize text? <a class=\"anchor\" id=\"how-to-vectorize-text\"></a>"
      ]
    },
    {
      "cell_type": "markdown",
      "metadata": {
        "id": "VZPZMXUK4zzZ"
      },
      "source": [
        "In this section I present the way I map from raw text to vectorized samples in order to inject the vectorized samples into M.L models"
      ]
    },
    {
      "cell_type": "markdown",
      "metadata": {
        "id": "OirVB6Nl4zzZ",
        "tags": []
      },
      "source": [
        "### Denoise headlines"
      ]
    },
    {
      "cell_type": "markdown",
      "metadata": {
        "id": "6528K0Uk3Xm0"
      },
      "source": [
        "In this section I present the way I clean the text and transform to simple phrases using the **nltk** library and removing stop words"
      ]
    },
    {
      "cell_type": "code",
      "execution_count": 58,
      "metadata": {
        "id": "tOzL4iIE4zzZ"
      },
      "outputs": [],
      "source": [
        "def denoise_text(text: str):\n",
        "    \n",
        "    from nltk.tokenize import RegexpTokenizer\n",
        "    from nltk.corpus import stopwords\n",
        "    from nltk.stem import PorterStemmer, WordNetLemmatizer\n",
        "    \n",
        "    def concat(tokens):\n",
        "        return ' '.join(tokens)\n",
        "\n",
        "    # lower case\n",
        "    text = text.lower()\n",
        "    \n",
        "    # remove punctuation\n",
        "    tokenizer = RegexpTokenizer(r'\\w+')\n",
        "    tokens = tokenizer.tokenize(text)\n",
        "    \n",
        "    # remove numbers\n",
        "    tokens = [token for token in tokens if not token.isnumeric()]\n",
        "    \n",
        "    # remove stop words\n",
        "    stop_words = stopwords.words('english')\n",
        "    tokens = [token for token in tokens if token not in stop_words]\n",
        "    \n",
        "    # stem words\n",
        "    stemmer = PorterStemmer()\n",
        "    tokens = [stemmer.stem(token) for token in tokens]\n",
        "\n",
        "    # lemmatize words\n",
        "    lemmatizer = WordNetLemmatizer()\n",
        "    tokens = [lemmatizer.lemmatize(token) for token in tokens]\n",
        "    \n",
        "    return concat(tokens)"
      ]
    },
    {
      "cell_type": "code",
      "execution_count": 59,
      "metadata": {
        "id": "TBu2MORi4zza",
        "outputId": "48acc4ae-6851-4f01-e395-69ab3c219fe1",
        "colab": {
          "base_uri": "https://localhost:8080/",
          "height": 363
        }
      },
      "outputs": [
        {
          "output_type": "execute_result",
          "data": {
            "text/plain": [
              "                                            headline  \\\n",
              "0  former versace store clerk sues over secret 'b...   \n",
              "1  the 'roseanne' revival catches up to our thorn...   \n",
              "2  mom starting to fear son's web series closest ...   \n",
              "3  boehner just wants wife to listen, not come up...   \n",
              "4  j.k. rowling wishes snape happy birthday in th...   \n",
              "5                        advancing the world's women   \n",
              "6     the fascinating case for eating lab-grown meat   \n",
              "7  this ceo will send your kids to school, if you...   \n",
              "8  top snake handler leaves sinking huckabee camp...   \n",
              "9  friday's morning email: inside trump's presser...   \n",
              "\n",
              "                                      clean_headline  \n",
              "0  former versac store clerk sue secret black cod...  \n",
              "1  roseann reviv catch thorni polit mood better wors  \n",
              "2  mom start fear son web seri closest thing gran...  \n",
              "3  boehner want wife listen come altern debt redu...  \n",
              "4       j k rowl wish snape happi birthday magic way  \n",
              "5                                 advanc world woman  \n",
              "6                     fascin case eat lab grown meat  \n",
              "7                   ceo send kid school work compani  \n",
              "8       top snake handler leav sink huckabe campaign  \n",
              "9          friday morn email insid trump presser age  "
            ],
            "text/html": [
              "\n",
              "  <div id=\"df-8ca38d7b-4df1-4545-ae8d-8c9aaf8dfa26\">\n",
              "    <div class=\"colab-df-container\">\n",
              "      <div>\n",
              "<style scoped>\n",
              "    .dataframe tbody tr th:only-of-type {\n",
              "        vertical-align: middle;\n",
              "    }\n",
              "\n",
              "    .dataframe tbody tr th {\n",
              "        vertical-align: top;\n",
              "    }\n",
              "\n",
              "    .dataframe thead th {\n",
              "        text-align: right;\n",
              "    }\n",
              "</style>\n",
              "<table border=\"1\" class=\"dataframe\">\n",
              "  <thead>\n",
              "    <tr style=\"text-align: right;\">\n",
              "      <th></th>\n",
              "      <th>headline</th>\n",
              "      <th>clean_headline</th>\n",
              "    </tr>\n",
              "  </thead>\n",
              "  <tbody>\n",
              "    <tr>\n",
              "      <th>0</th>\n",
              "      <td>former versace store clerk sues over secret 'b...</td>\n",
              "      <td>former versac store clerk sue secret black cod...</td>\n",
              "    </tr>\n",
              "    <tr>\n",
              "      <th>1</th>\n",
              "      <td>the 'roseanne' revival catches up to our thorn...</td>\n",
              "      <td>roseann reviv catch thorni polit mood better wors</td>\n",
              "    </tr>\n",
              "    <tr>\n",
              "      <th>2</th>\n",
              "      <td>mom starting to fear son's web series closest ...</td>\n",
              "      <td>mom start fear son web seri closest thing gran...</td>\n",
              "    </tr>\n",
              "    <tr>\n",
              "      <th>3</th>\n",
              "      <td>boehner just wants wife to listen, not come up...</td>\n",
              "      <td>boehner want wife listen come altern debt redu...</td>\n",
              "    </tr>\n",
              "    <tr>\n",
              "      <th>4</th>\n",
              "      <td>j.k. rowling wishes snape happy birthday in th...</td>\n",
              "      <td>j k rowl wish snape happi birthday magic way</td>\n",
              "    </tr>\n",
              "    <tr>\n",
              "      <th>5</th>\n",
              "      <td>advancing the world's women</td>\n",
              "      <td>advanc world woman</td>\n",
              "    </tr>\n",
              "    <tr>\n",
              "      <th>6</th>\n",
              "      <td>the fascinating case for eating lab-grown meat</td>\n",
              "      <td>fascin case eat lab grown meat</td>\n",
              "    </tr>\n",
              "    <tr>\n",
              "      <th>7</th>\n",
              "      <td>this ceo will send your kids to school, if you...</td>\n",
              "      <td>ceo send kid school work compani</td>\n",
              "    </tr>\n",
              "    <tr>\n",
              "      <th>8</th>\n",
              "      <td>top snake handler leaves sinking huckabee camp...</td>\n",
              "      <td>top snake handler leav sink huckabe campaign</td>\n",
              "    </tr>\n",
              "    <tr>\n",
              "      <th>9</th>\n",
              "      <td>friday's morning email: inside trump's presser...</td>\n",
              "      <td>friday morn email insid trump presser age</td>\n",
              "    </tr>\n",
              "  </tbody>\n",
              "</table>\n",
              "</div>\n",
              "      <button class=\"colab-df-convert\" onclick=\"convertToInteractive('df-8ca38d7b-4df1-4545-ae8d-8c9aaf8dfa26')\"\n",
              "              title=\"Convert this dataframe to an interactive table.\"\n",
              "              style=\"display:none;\">\n",
              "        \n",
              "  <svg xmlns=\"http://www.w3.org/2000/svg\" height=\"24px\"viewBox=\"0 0 24 24\"\n",
              "       width=\"24px\">\n",
              "    <path d=\"M0 0h24v24H0V0z\" fill=\"none\"/>\n",
              "    <path d=\"M18.56 5.44l.94 2.06.94-2.06 2.06-.94-2.06-.94-.94-2.06-.94 2.06-2.06.94zm-11 1L8.5 8.5l.94-2.06 2.06-.94-2.06-.94L8.5 2.5l-.94 2.06-2.06.94zm10 10l.94 2.06.94-2.06 2.06-.94-2.06-.94-.94-2.06-.94 2.06-2.06.94z\"/><path d=\"M17.41 7.96l-1.37-1.37c-.4-.4-.92-.59-1.43-.59-.52 0-1.04.2-1.43.59L10.3 9.45l-7.72 7.72c-.78.78-.78 2.05 0 2.83L4 21.41c.39.39.9.59 1.41.59.51 0 1.02-.2 1.41-.59l7.78-7.78 2.81-2.81c.8-.78.8-2.07 0-2.86zM5.41 20L4 18.59l7.72-7.72 1.47 1.35L5.41 20z\"/>\n",
              "  </svg>\n",
              "      </button>\n",
              "      \n",
              "  <style>\n",
              "    .colab-df-container {\n",
              "      display:flex;\n",
              "      flex-wrap:wrap;\n",
              "      gap: 12px;\n",
              "    }\n",
              "\n",
              "    .colab-df-convert {\n",
              "      background-color: #E8F0FE;\n",
              "      border: none;\n",
              "      border-radius: 50%;\n",
              "      cursor: pointer;\n",
              "      display: none;\n",
              "      fill: #1967D2;\n",
              "      height: 32px;\n",
              "      padding: 0 0 0 0;\n",
              "      width: 32px;\n",
              "    }\n",
              "\n",
              "    .colab-df-convert:hover {\n",
              "      background-color: #E2EBFA;\n",
              "      box-shadow: 0px 1px 2px rgba(60, 64, 67, 0.3), 0px 1px 3px 1px rgba(60, 64, 67, 0.15);\n",
              "      fill: #174EA6;\n",
              "    }\n",
              "\n",
              "    [theme=dark] .colab-df-convert {\n",
              "      background-color: #3B4455;\n",
              "      fill: #D2E3FC;\n",
              "    }\n",
              "\n",
              "    [theme=dark] .colab-df-convert:hover {\n",
              "      background-color: #434B5C;\n",
              "      box-shadow: 0px 1px 3px 1px rgba(0, 0, 0, 0.15);\n",
              "      filter: drop-shadow(0px 1px 2px rgba(0, 0, 0, 0.3));\n",
              "      fill: #FFFFFF;\n",
              "    }\n",
              "  </style>\n",
              "\n",
              "      <script>\n",
              "        const buttonEl =\n",
              "          document.querySelector('#df-8ca38d7b-4df1-4545-ae8d-8c9aaf8dfa26 button.colab-df-convert');\n",
              "        buttonEl.style.display =\n",
              "          google.colab.kernel.accessAllowed ? 'block' : 'none';\n",
              "\n",
              "        async function convertToInteractive(key) {\n",
              "          const element = document.querySelector('#df-8ca38d7b-4df1-4545-ae8d-8c9aaf8dfa26');\n",
              "          const dataTable =\n",
              "            await google.colab.kernel.invokeFunction('convertToInteractive',\n",
              "                                                     [key], {});\n",
              "          if (!dataTable) return;\n",
              "\n",
              "          const docLinkHtml = 'Like what you see? Visit the ' +\n",
              "            '<a target=\"_blank\" href=https://colab.research.google.com/notebooks/data_table.ipynb>data table notebook</a>'\n",
              "            + ' to learn more about interactive tables.';\n",
              "          element.innerHTML = '';\n",
              "          dataTable['output_type'] = 'display_data';\n",
              "          await google.colab.output.renderOutput(dataTable, element);\n",
              "          const docLink = document.createElement('div');\n",
              "          docLink.innerHTML = docLinkHtml;\n",
              "          element.appendChild(docLink);\n",
              "        }\n",
              "      </script>\n",
              "    </div>\n",
              "  </div>\n",
              "  "
            ]
          },
          "metadata": {},
          "execution_count": 59
        }
      ],
      "source": [
        "df['clean_headline'] = df['headline'].apply(denoise_text)\n",
        "df[['headline', 'clean_headline']].head(10)"
      ]
    },
    {
      "cell_type": "markdown",
      "metadata": {
        "id": "3Z-akcsM4zza"
      },
      "source": [
        "### Most commond words in headlines"
      ]
    },
    {
      "cell_type": "markdown",
      "metadata": {
        "id": "E7MOUfN13Xm1"
      },
      "source": [
        "In this section you'll see the most recurrent words used in sarcastic headlines and in not sarcastic headlines. This may gives us an idea of how sarcastic quotes are diferenciated from non sarcastic quotes."
      ]
    },
    {
      "cell_type": "code",
      "execution_count": 60,
      "metadata": {
        "id": "je_F3w7v4zza",
        "outputId": "37f4d803-db08-49a3-cd0a-2099bd4071b9",
        "colab": {
          "base_uri": "https://localhost:8080/",
          "height": 198
        }
      },
      "outputs": [
        {
          "output_type": "display_data",
          "data": {
            "text/plain": [
              "<Figure size 432x288 with 1 Axes>"
            ],
            "image/png": "[encoded data removed]"
          },
          "metadata": {}
        }
      ],
      "source": [
        "# more frequent words used in not sarcastic headlines\n",
        "ns_words = ' '.join(df[df['is_sarcastic'] == 0]['clean_headline'])\n",
        "wc = WordCloud(max_words = 15, collocations = False, background_color = 'white').generate(ns_words)\n",
        "plt.imshow(wc , interpolation = 'bilinear')\n",
        "plt.axis(\"off\")\n",
        "plt.show()"
      ]
    },
    {
      "cell_type": "code",
      "execution_count": 61,
      "metadata": {
        "id": "J3BVBhfd4zza",
        "outputId": "43e17b55-66a8-42d7-c0b5-a0888b3dd5bd",
        "colab": {
          "base_uri": "https://localhost:8080/",
          "height": 198
        }
      },
      "outputs": [
        {
          "output_type": "display_data",
          "data": {
            "text/plain": [
              "<Figure size 432x288 with 1 Axes>"
            ],
            "image/png": "[encoded data removed]"
          },
          "metadata": {}
        }
      ],
      "source": [
        "# more frequent words used in sarcastic headlines\n",
        "ns_words = ' '.join(df[df['is_sarcastic'] == 1]['clean_headline'])\n",
        "wc = WordCloud(max_words = 15, collocations = False, background_color = 'white').generate(ns_words)\n",
        "plt.imshow(wc , interpolation = 'bilinear')\n",
        "plt.axis(\"off\")\n",
        "plt.show()"
      ]
    },
    {
      "cell_type": "markdown",
      "metadata": {
        "id": "dyKxwQwT4zza"
      },
      "source": [
        "### Vectorize words"
      ]
    },
    {
      "cell_type": "markdown",
      "metadata": {
        "id": "bX2w0Jq-4zzb"
      },
      "source": [
        "To add context to the machine learning algorithm, I use ngrams of size 1 and 2. This makes increase the size of data but I hope it helps the algoritms to be more acurate."
      ]
    },
    {
      "cell_type": "code",
      "execution_count": 62,
      "metadata": {
        "id": "fsqmX3xD4zzb"
      },
      "outputs": [],
      "source": [
        "from sklearn.feature_extraction.text import CountVectorizer\n",
        "\n",
        "corpus = df['clean_headline']\n",
        "vectorizer = CountVectorizer(dtype='int32', analyzer='word', ngram_range=(1,2))\n",
        "X = vectorizer.fit_transform(corpus)\n",
        "feature_names = vectorizer.get_feature_names_out()"
      ]
    },
    {
      "cell_type": "code",
      "execution_count": 63,
      "metadata": {
        "id": "5zVAiVlD4zzb",
        "outputId": "ca93a047-fed7-4001-d067-6119bfe87a82",
        "colab": {
          "base_uri": "https://localhost:8080/"
        }
      },
      "outputs": [
        {
          "output_type": "execute_result",
          "data": {
            "text/plain": [
              "(26602, 146989)"
            ]
          },
          "metadata": {},
          "execution_count": 63
        }
      ],
      "source": [
        "X.shape"
      ]
    },
    {
      "cell_type": "code",
      "execution_count": 64,
      "metadata": {
        "id": "EihXNEJ04zzb",
        "outputId": "8b08b556-ce88-46c5-c3b7-61d1fbf415a4",
        "colab": {
          "base_uri": "https://localhost:8080/"
        }
      },
      "outputs": [
        {
          "output_type": "execute_result",
          "data": {
            "text/plain": [
              "array(['31st age', '34th', '34th anniversari', '34th season',\n",
              "       '34th short', '350th', '350th anniversari', '35th',\n",
              "       '35th anniversari', '35th year', '37th', '37th sailor', '38c',\n",
              "       '38c episod', '393rd', '393rd guilti', '3d', '3d model',\n",
              "       '3d print', '3d printer', '3d world', '3m', '3m introduc', '3po',\n",
              "       '3po red'], dtype=object)"
            ]
          },
          "metadata": {},
          "execution_count": 64
        }
      ],
      "source": [
        "feature_names[100:125]"
      ]
    },
    {
      "cell_type": "code",
      "execution_count": 65,
      "metadata": {
        "id": "Ler2Kqx94zzb",
        "outputId": "bb37a52d-b3e3-4007-ba3a-305a4425407c",
        "colab": {
          "base_uri": "https://localhost:8080/"
        }
      },
      "outputs": [
        {
          "output_type": "execute_result",
          "data": {
            "text/plain": [
              "array(['pressur self', 'pressur senat', 'pressur sleep', 'pressur stanc',\n",
              "       'pressur use', 'pressur wife', 'prestigi', 'prestigi honor',\n",
              "       'prestigi univers', 'preston', 'preston cook', 'presum',\n",
              "       'presum innoc', 'presum man', 'presumpt', 'presumpt cruelli',\n",
              "       'presumpt prepar', 'presumpt republican', 'pretend',\n",
              "       'pretend care', 'pretend everyth', 'pretend faint',\n",
              "       'pretend frazzl', 'pretend fuck', 'pretend hear'], dtype=object)"
            ]
          },
          "metadata": {},
          "execution_count": 65
        }
      ],
      "source": [
        "feature_names[100000:100025]"
      ]
    },
    {
      "cell_type": "code",
      "execution_count": 66,
      "metadata": {
        "id": "fsO5TWS64zzb"
      },
      "outputs": [],
      "source": [
        "# X.toarray() <- Even decreasing the number of bits to representing the data, it does not work, I have 8gb of ram and it exceeds 14gb\n",
        "sdf = pd.DataFrame.sparse.from_spmatrix(X)\n",
        "sdf[['is_sarcastic', 'transmitter']] = df[['is_sarcastic', 'transmitter']]"
      ]
    },
    {
      "cell_type": "code",
      "execution_count": 67,
      "metadata": {
        "id": "TstBcGM04zzb",
        "outputId": "87aa2f88-aa45-40ba-d4ea-d142b7533ad8",
        "colab": {
          "base_uri": "https://localhost:8080/",
          "height": 206
        }
      },
      "outputs": [
        {
          "output_type": "execute_result",
          "data": {
            "text/plain": [
              "   0  1  2  3  4  5  6  7  8  9  is_sarcastic     transmitter\n",
              "0  0  0  0  0  0  0  0  0  0  0           0.0  huffingtonpost\n",
              "1  0  0  0  0  0  0  0  0  0  0           0.0  huffingtonpost\n",
              "2  0  0  0  0  0  0  0  0  0  0           1.0        theonion\n",
              "3  0  0  0  0  0  0  0  0  0  0           1.0        theonion\n",
              "4  0  0  0  0  0  0  0  0  0  0           0.0  huffingtonpost"
            ],
            "text/html": [
              "\n",
              "  <div id=\"df-e7848631-ed8f-457e-9b2f-946e7a7a3ca8\">\n",
              "    <div class=\"colab-df-container\">\n",
              "      <div>\n",
              "<style scoped>\n",
              "    .dataframe tbody tr th:only-of-type {\n",
              "        vertical-align: middle;\n",
              "    }\n",
              "\n",
              "    .dataframe tbody tr th {\n",
              "        vertical-align: top;\n",
              "    }\n",
              "\n",
              "    .dataframe thead th {\n",
              "        text-align: right;\n",
              "    }\n",
              "</style>\n",
              "<table border=\"1\" class=\"dataframe\">\n",
              "  <thead>\n",
              "    <tr style=\"text-align: right;\">\n",
              "      <th></th>\n",
              "      <th>0</th>\n",
              "      <th>1</th>\n",
              "      <th>2</th>\n",
              "      <th>3</th>\n",
              "      <th>4</th>\n",
              "      <th>5</th>\n",
              "      <th>6</th>\n",
              "      <th>7</th>\n",
              "      <th>8</th>\n",
              "      <th>9</th>\n",
              "      <th>is_sarcastic</th>\n",
              "      <th>transmitter</th>\n",
              "    </tr>\n",
              "  </thead>\n",
              "  <tbody>\n",
              "    <tr>\n",
              "      <th>0</th>\n",
              "      <td>0</td>\n",
              "      <td>0</td>\n",
              "      <td>0</td>\n",
              "      <td>0</td>\n",
              "      <td>0</td>\n",
              "      <td>0</td>\n",
              "      <td>0</td>\n",
              "      <td>0</td>\n",
              "      <td>0</td>\n",
              "      <td>0</td>\n",
              "      <td>0.0</td>\n",
              "      <td>huffingtonpost</td>\n",
              "    </tr>\n",
              "    <tr>\n",
              "      <th>1</th>\n",
              "      <td>0</td>\n",
              "      <td>0</td>\n",
              "      <td>0</td>\n",
              "      <td>0</td>\n",
              "      <td>0</td>\n",
              "      <td>0</td>\n",
              "      <td>0</td>\n",
              "      <td>0</td>\n",
              "      <td>0</td>\n",
              "      <td>0</td>\n",
              "      <td>0.0</td>\n",
              "      <td>huffingtonpost</td>\n",
              "    </tr>\n",
              "    <tr>\n",
              "      <th>2</th>\n",
              "      <td>0</td>\n",
              "      <td>0</td>\n",
              "      <td>0</td>\n",
              "      <td>0</td>\n",
              "      <td>0</td>\n",
              "      <td>0</td>\n",
              "      <td>0</td>\n",
              "      <td>0</td>\n",
              "      <td>0</td>\n",
              "      <td>0</td>\n",
              "      <td>1.0</td>\n",
              "      <td>theonion</td>\n",
              "    </tr>\n",
              "    <tr>\n",
              "      <th>3</th>\n",
              "      <td>0</td>\n",
              "      <td>0</td>\n",
              "      <td>0</td>\n",
              "      <td>0</td>\n",
              "      <td>0</td>\n",
              "      <td>0</td>\n",
              "      <td>0</td>\n",
              "      <td>0</td>\n",
              "      <td>0</td>\n",
              "      <td>0</td>\n",
              "      <td>1.0</td>\n",
              "      <td>theonion</td>\n",
              "    </tr>\n",
              "    <tr>\n",
              "      <th>4</th>\n",
              "      <td>0</td>\n",
              "      <td>0</td>\n",
              "      <td>0</td>\n",
              "      <td>0</td>\n",
              "      <td>0</td>\n",
              "      <td>0</td>\n",
              "      <td>0</td>\n",
              "      <td>0</td>\n",
              "      <td>0</td>\n",
              "      <td>0</td>\n",
              "      <td>0.0</td>\n",
              "      <td>huffingtonpost</td>\n",
              "    </tr>\n",
              "  </tbody>\n",
              "</table>\n",
              "</div>\n",
              "      <button class=\"colab-df-convert\" onclick=\"convertToInteractive('df-e7848631-ed8f-457e-9b2f-946e7a7a3ca8')\"\n",
              "              title=\"Convert this dataframe to an interactive table.\"\n",
              "              style=\"display:none;\">\n",
              "        \n",
              "  <svg xmlns=\"http://www.w3.org/2000/svg\" height=\"24px\"viewBox=\"0 0 24 24\"\n",
              "       width=\"24px\">\n",
              "    <path d=\"M0 0h24v24H0V0z\" fill=\"none\"/>\n",
              "    <path d=\"M18.56 5.44l.94 2.06.94-2.06 2.06-.94-2.06-.94-.94-2.06-.94 2.06-2.06.94zm-11 1L8.5 8.5l.94-2.06 2.06-.94-2.06-.94L8.5 2.5l-.94 2.06-2.06.94zm10 10l.94 2.06.94-2.06 2.06-.94-2.06-.94-.94-2.06-.94 2.06-2.06.94z\"/><path d=\"M17.41 7.96l-1.37-1.37c-.4-.4-.92-.59-1.43-.59-.52 0-1.04.2-1.43.59L10.3 9.45l-7.72 7.72c-.78.78-.78 2.05 0 2.83L4 21.41c.39.39.9.59 1.41.59.51 0 1.02-.2 1.41-.59l7.78-7.78 2.81-2.81c.8-.78.8-2.07 0-2.86zM5.41 20L4 18.59l7.72-7.72 1.47 1.35L5.41 20z\"/>\n",
              "  </svg>\n",
              "      </button>\n",
              "      \n",
              "  <style>\n",
              "    .colab-df-container {\n",
              "      display:flex;\n",
              "      flex-wrap:wrap;\n",
              "      gap: 12px;\n",
              "    }\n",
              "\n",
              "    .colab-df-convert {\n",
              "      background-color: #E8F0FE;\n",
              "      border: none;\n",
              "      border-radius: 50%;\n",
              "      cursor: pointer;\n",
              "      display: none;\n",
              "      fill: #1967D2;\n",
              "      height: 32px;\n",
              "      padding: 0 0 0 0;\n",
              "      width: 32px;\n",
              "    }\n",
              "\n",
              "    .colab-df-convert:hover {\n",
              "      background-color: #E2EBFA;\n",
              "      box-shadow: 0px 1px 2px rgba(60, 64, 67, 0.3), 0px 1px 3px 1px rgba(60, 64, 67, 0.15);\n",
              "      fill: #174EA6;\n",
              "    }\n",
              "\n",
              "    [theme=dark] .colab-df-convert {\n",
              "      background-color: #3B4455;\n",
              "      fill: #D2E3FC;\n",
              "    }\n",
              "\n",
              "    [theme=dark] .colab-df-convert:hover {\n",
              "      background-color: #434B5C;\n",
              "      box-shadow: 0px 1px 3px 1px rgba(0, 0, 0, 0.15);\n",
              "      filter: drop-shadow(0px 1px 2px rgba(0, 0, 0, 0.3));\n",
              "      fill: #FFFFFF;\n",
              "    }\n",
              "  </style>\n",
              "\n",
              "      <script>\n",
              "        const buttonEl =\n",
              "          document.querySelector('#df-e7848631-ed8f-457e-9b2f-946e7a7a3ca8 button.colab-df-convert');\n",
              "        buttonEl.style.display =\n",
              "          google.colab.kernel.accessAllowed ? 'block' : 'none';\n",
              "\n",
              "        async function convertToInteractive(key) {\n",
              "          const element = document.querySelector('#df-e7848631-ed8f-457e-9b2f-946e7a7a3ca8');\n",
              "          const dataTable =\n",
              "            await google.colab.kernel.invokeFunction('convertToInteractive',\n",
              "                                                     [key], {});\n",
              "          if (!dataTable) return;\n",
              "\n",
              "          const docLinkHtml = 'Like what you see? Visit the ' +\n",
              "            '<a target=\"_blank\" href=https://colab.research.google.com/notebooks/data_table.ipynb>data table notebook</a>'\n",
              "            + ' to learn more about interactive tables.';\n",
              "          element.innerHTML = '';\n",
              "          dataTable['output_type'] = 'display_data';\n",
              "          await google.colab.output.renderOutput(dataTable, element);\n",
              "          const docLink = document.createElement('div');\n",
              "          docLink.innerHTML = docLinkHtml;\n",
              "          element.appendChild(docLink);\n",
              "        }\n",
              "      </script>\n",
              "    </div>\n",
              "  </div>\n",
              "  "
            ]
          },
          "metadata": {},
          "execution_count": 67
        }
      ],
      "source": [
        "sdf[list(range(10)) + ['is_sarcastic', 'transmitter']].head()"
      ]
    },
    {
      "cell_type": "markdown",
      "metadata": {
        "id": "RHFN_i1P4zzb",
        "tags": []
      },
      "source": [
        "## 🔮 End to End Modeling<a class=\"anchor\" id=\"end-to-end-modeling\"></a>"
      ]
    },
    {
      "cell_type": "markdown",
      "metadata": {
        "id": "2VsBYqAf3Xm2"
      },
      "source": [
        "As I want this project be portable, I'll use the end-to-end desing pattern. Which, being brief, consist in having the transformations and the modeling in the same workflow, programmatically as I'm using **sklearn**, it means using *Pipelines* and *Transformers*."
      ]
    },
    {
      "cell_type": "markdown",
      "metadata": {
        "jp-MarkdownHeadingCollapsed": true,
        "tags": [],
        "id": "9y7u08OS3Xm2"
      },
      "source": [
        "### Transformations"
      ]
    },
    {
      "cell_type": "code",
      "execution_count": 68,
      "metadata": {
        "id": "YQ9WHtuC4zzb"
      },
      "outputs": [],
      "source": [
        "from sklearn.pipeline import Pipeline\n",
        "from sklearn.compose import ColumnTransformer\n",
        "from sklearn.preprocessing import LabelEncoder\n",
        "from sklearn.feature_extraction.text import CountVectorizer\n",
        "from sklearn.preprocessing import OrdinalEncoder\n",
        "from sklearn.base import BaseEstimator, TransformerMixin\n",
        "\n",
        "# Custom transformers\n",
        "\n",
        "# cleans noise from raw text\n",
        "class TextDenoiser(BaseEstimator, TransformerMixin):\n",
        "    \n",
        "    def __denoise_text(self, text):\n",
        "        from nltk.tokenize import RegexpTokenizer\n",
        "        from nltk.corpus import stopwords\n",
        "        from nltk.stem import PorterStemmer, WordNetLemmatizer\n",
        "        \n",
        "        def concat(tokens):\n",
        "            return ' '.join(tokens)\n",
        "\n",
        "        # lower case\n",
        "        text = text.lower()\n",
        "\n",
        "        # remove punctuation\n",
        "        tokenizer = RegexpTokenizer(r'\\w+')\n",
        "        tokens = tokenizer.tokenize(text)\n",
        "\n",
        "        # remove numbers\n",
        "        tokens = [token for token in tokens if not token.isnumeric()]\n",
        "\n",
        "        # remove stop words\n",
        "        stop_words = stopwords.words('english')\n",
        "        tokens = [token for token in tokens if token not in stop_words]\n",
        "\n",
        "        # stem words\n",
        "        stemmer = PorterStemmer()\n",
        "        tokens = [stemmer.stem(token) for token in tokens]\n",
        "\n",
        "        # lemmatize words\n",
        "        lemmatizer = WordNetLemmatizer()\n",
        "        tokens = [lemmatizer.lemmatize(token) for token in tokens]\n",
        "\n",
        "        return concat(tokens)\n",
        "\n",
        "    def __init__(self):\n",
        "        pass\n",
        "    \n",
        "    def fit(self, X, y=None):\n",
        "        X = pd.DataFrame(X)\n",
        "        return self\n",
        "\n",
        "    def transform(self, X, y=None):\n",
        "        X = pd.DataFrame(X)\n",
        "        for c in X.columns:\n",
        "            X[c] = X[c].apply(self.__denoise_text)\n",
        "        return X\n",
        "\n",
        "    \n",
        "# Transform url into transmitter categorical variable \n",
        "# (NOT USED ANYMORE as I see this features give me height performance but It makes models dependent from this variable and I dont want it!)\n",
        "class TransmitterExtracter(BaseEstimator, TransformerMixin):\n",
        "\n",
        "    def __init__(self):\n",
        "        pass\n",
        "    \n",
        "    def fit(self, X, y=None):\n",
        "        X = pd.DataFrame(X)\n",
        "        # self.input_features = X.columns\n",
        "        return self\n",
        "    \n",
        "    def __extracter(self, text):\n",
        "        return text.split('.')[1]\n",
        "\n",
        "    def transform(self, X, y=None):\n",
        "        X = pd.DataFrame(X)\n",
        "        for c in X.columns:\n",
        "            X[c] = X[c].apply(self.__extracter)\n",
        "        return X"
      ]
    },
    {
      "cell_type": "code",
      "execution_count": 69,
      "metadata": {
        "id": "f-4IOdqY4zzc"
      },
      "outputs": [],
      "source": [
        "text_processor_pipeline = Pipeline(steps=[\n",
        "            ('denoiser', TextDenoiser()),\n",
        "            ('ct', ColumnTransformer(transformers=[\n",
        "                ('v', CountVectorizer(dtype='int32', analyzer='word', ngram_range=(1,2)), 0)])\n",
        "            )\n",
        "        ])\n",
        "\n",
        "# Column transformer get's ride of no transformed columns\n",
        "preprocessor = ColumnTransformer(\n",
        "    transformers=[\n",
        "        #('tf1', transmitter_processor_pipeline, ['article_link']),\n",
        "        ('tf2', text_processor_pipeline, ['headline']),\n",
        "    ],\n",
        "    #remainder='passthrough'\n",
        ")"
      ]
    },
    {
      "cell_type": "code",
      "execution_count": 70,
      "metadata": {
        "id": "hWvGq88Y4zzc",
        "outputId": "deeddc59-5bea-4db4-8b1b-966065972be3",
        "colab": {
          "base_uri": "https://localhost:8080/",
          "height": 206
        }
      },
      "outputs": [
        {
          "output_type": "execute_result",
          "data": {
            "text/plain": [
              "                                        article_link  \\\n",
              "0  https://www.huffingtonpost.com/entry/versace-b...   \n",
              "1  https://www.huffingtonpost.com/entry/roseanne-...   \n",
              "2  https://local.theonion.com/mom-starting-to-fea...   \n",
              "3  https://politics.theonion.com/boehner-just-wan...   \n",
              "4  https://www.huffingtonpost.com/entry/jk-rowlin...   \n",
              "\n",
              "                                            headline  is_sarcastic  \n",
              "0  former versace store clerk sues over secret 'b...             0  \n",
              "1  the 'roseanne' revival catches up to our thorn...             0  \n",
              "2  mom starting to fear son's web series closest ...             1  \n",
              "3  boehner just wants wife to listen, not come up...             1  \n",
              "4  j.k. rowling wishes snape happy birthday in th...             0  "
            ],
            "text/html": [
              "\n",
              "  <div id=\"df-cae5528b-11ca-4b9c-ae07-d033423c4685\">\n",
              "    <div class=\"colab-df-container\">\n",
              "      <div>\n",
              "<style scoped>\n",
              "    .dataframe tbody tr th:only-of-type {\n",
              "        vertical-align: middle;\n",
              "    }\n",
              "\n",
              "    .dataframe tbody tr th {\n",
              "        vertical-align: top;\n",
              "    }\n",
              "\n",
              "    .dataframe thead th {\n",
              "        text-align: right;\n",
              "    }\n",
              "</style>\n",
              "<table border=\"1\" class=\"dataframe\">\n",
              "  <thead>\n",
              "    <tr style=\"text-align: right;\">\n",
              "      <th></th>\n",
              "      <th>article_link</th>\n",
              "      <th>headline</th>\n",
              "      <th>is_sarcastic</th>\n",
              "    </tr>\n",
              "  </thead>\n",
              "  <tbody>\n",
              "    <tr>\n",
              "      <th>0</th>\n",
              "      <td>https://www.huffingtonpost.com/entry/versace-b...</td>\n",
              "      <td>former versace store clerk sues over secret 'b...</td>\n",
              "      <td>0</td>\n",
              "    </tr>\n",
              "    <tr>\n",
              "      <th>1</th>\n",
              "      <td>https://www.huffingtonpost.com/entry/roseanne-...</td>\n",
              "      <td>the 'roseanne' revival catches up to our thorn...</td>\n",
              "      <td>0</td>\n",
              "    </tr>\n",
              "    <tr>\n",
              "      <th>2</th>\n",
              "      <td>https://local.theonion.com/mom-starting-to-fea...</td>\n",
              "      <td>mom starting to fear son's web series closest ...</td>\n",
              "      <td>1</td>\n",
              "    </tr>\n",
              "    <tr>\n",
              "      <th>3</th>\n",
              "      <td>https://politics.theonion.com/boehner-just-wan...</td>\n",
              "      <td>boehner just wants wife to listen, not come up...</td>\n",
              "      <td>1</td>\n",
              "    </tr>\n",
              "    <tr>\n",
              "      <th>4</th>\n",
              "      <td>https://www.huffingtonpost.com/entry/jk-rowlin...</td>\n",
              "      <td>j.k. rowling wishes snape happy birthday in th...</td>\n",
              "      <td>0</td>\n",
              "    </tr>\n",
              "  </tbody>\n",
              "</table>\n",
              "</div>\n",
              "      <button class=\"colab-df-convert\" onclick=\"convertToInteractive('df-cae5528b-11ca-4b9c-ae07-d033423c4685')\"\n",
              "              title=\"Convert this dataframe to an interactive table.\"\n",
              "              style=\"display:none;\">\n",
              "        \n",
              "  <svg xmlns=\"http://www.w3.org/2000/svg\" height=\"24px\"viewBox=\"0 0 24 24\"\n",
              "       width=\"24px\">\n",
              "    <path d=\"M0 0h24v24H0V0z\" fill=\"none\"/>\n",
              "    <path d=\"M18.56 5.44l.94 2.06.94-2.06 2.06-.94-2.06-.94-.94-2.06-.94 2.06-2.06.94zm-11 1L8.5 8.5l.94-2.06 2.06-.94-2.06-.94L8.5 2.5l-.94 2.06-2.06.94zm10 10l.94 2.06.94-2.06 2.06-.94-2.06-.94-.94-2.06-.94 2.06-2.06.94z\"/><path d=\"M17.41 7.96l-1.37-1.37c-.4-.4-.92-.59-1.43-.59-.52 0-1.04.2-1.43.59L10.3 9.45l-7.72 7.72c-.78.78-.78 2.05 0 2.83L4 21.41c.39.39.9.59 1.41.59.51 0 1.02-.2 1.41-.59l7.78-7.78 2.81-2.81c.8-.78.8-2.07 0-2.86zM5.41 20L4 18.59l7.72-7.72 1.47 1.35L5.41 20z\"/>\n",
              "  </svg>\n",
              "      </button>\n",
              "      \n",
              "  <style>\n",
              "    .colab-df-container {\n",
              "      display:flex;\n",
              "      flex-wrap:wrap;\n",
              "      gap: 12px;\n",
              "    }\n",
              "\n",
              "    .colab-df-convert {\n",
              "      background-color: #E8F0FE;\n",
              "      border: none;\n",
              "      border-radius: 50%;\n",
              "      cursor: pointer;\n",
              "      display: none;\n",
              "      fill: #1967D2;\n",
              "      height: 32px;\n",
              "      padding: 0 0 0 0;\n",
              "      width: 32px;\n",
              "    }\n",
              "\n",
              "    .colab-df-convert:hover {\n",
              "      background-color: #E2EBFA;\n",
              "      box-shadow: 0px 1px 2px rgba(60, 64, 67, 0.3), 0px 1px 3px 1px rgba(60, 64, 67, 0.15);\n",
              "      fill: #174EA6;\n",
              "    }\n",
              "\n",
              "    [theme=dark] .colab-df-convert {\n",
              "      background-color: #3B4455;\n",
              "      fill: #D2E3FC;\n",
              "    }\n",
              "\n",
              "    [theme=dark] .colab-df-convert:hover {\n",
              "      background-color: #434B5C;\n",
              "      box-shadow: 0px 1px 3px 1px rgba(0, 0, 0, 0.15);\n",
              "      filter: drop-shadow(0px 1px 2px rgba(0, 0, 0, 0.3));\n",
              "      fill: #FFFFFF;\n",
              "    }\n",
              "  </style>\n",
              "\n",
              "      <script>\n",
              "        const buttonEl =\n",
              "          document.querySelector('#df-cae5528b-11ca-4b9c-ae07-d033423c4685 button.colab-df-convert');\n",
              "        buttonEl.style.display =\n",
              "          google.colab.kernel.accessAllowed ? 'block' : 'none';\n",
              "\n",
              "        async function convertToInteractive(key) {\n",
              "          const element = document.querySelector('#df-cae5528b-11ca-4b9c-ae07-d033423c4685');\n",
              "          const dataTable =\n",
              "            await google.colab.kernel.invokeFunction('convertToInteractive',\n",
              "                                                     [key], {});\n",
              "          if (!dataTable) return;\n",
              "\n",
              "          const docLinkHtml = 'Like what you see? Visit the ' +\n",
              "            '<a target=\"_blank\" href=https://colab.research.google.com/notebooks/data_table.ipynb>data table notebook</a>'\n",
              "            + ' to learn more about interactive tables.';\n",
              "          element.innerHTML = '';\n",
              "          dataTable['output_type'] = 'display_data';\n",
              "          await google.colab.output.renderOutput(dataTable, element);\n",
              "          const docLink = document.createElement('div');\n",
              "          docLink.innerHTML = docLinkHtml;\n",
              "          element.appendChild(docLink);\n",
              "        }\n",
              "      </script>\n",
              "    </div>\n",
              "  </div>\n",
              "  "
            ]
          },
          "metadata": {},
          "execution_count": 70
        }
      ],
      "source": [
        "# To remember what we had until now\n",
        "X_a.head()"
      ]
    },
    {
      "cell_type": "code",
      "execution_count": 71,
      "metadata": {
        "id": "QnKNGlwV4zzc",
        "outputId": "6d2a40cd-7caf-4cad-e8e5-ad2991ebeb99",
        "colab": {
          "base_uri": "https://localhost:8080/"
        }
      },
      "outputs": [
        {
          "output_type": "execute_result",
          "data": {
            "text/plain": [
              "(pandas.core.frame.DataFrame, pandas.core.series.Series)"
            ]
          },
          "metadata": {},
          "execution_count": 71
        }
      ],
      "source": [
        "X = X_a.drop(['is_sarcastic', 'article_link'], 1)\n",
        "y = X_a['is_sarcastic']\n",
        "type(X), type(y)"
      ]
    },
    {
      "cell_type": "code",
      "execution_count": 72,
      "metadata": {
        "id": "TCv8oe7W4zzd",
        "outputId": "ef9584c9-78a8-4d6f-c2ed-eed5bb459e30",
        "colab": {
          "base_uri": "https://localhost:8080/"
        }
      },
      "outputs": [
        {
          "output_type": "execute_result",
          "data": {
            "text/plain": [
              "(scipy.sparse.csr.csr_matrix, pandas.core.series.Series)"
            ]
          },
          "metadata": {},
          "execution_count": 72
        }
      ],
      "source": [
        "from sklearn.model_selection import train_test_split\n",
        "\n",
        "X_train, X_test, y_train, y_test = train_test_split(\n",
        "    X, y, test_size=0.2, random_state=42, stratify=y.to_numpy())\n",
        "\n",
        "X_train = preprocessor.fit_transform(X_train)\n",
        "X_test = preprocessor.transform(X_test)\n",
        "\n",
        "type(X_train), type(y_train)"
      ]
    },
    {
      "cell_type": "code",
      "execution_count": 73,
      "metadata": {
        "id": "gJjBTgtl4zzd",
        "outputId": "03ab1085-d43e-4df7-837b-317af728904e",
        "colab": {
          "base_uri": "https://localhost:8080/"
        }
      },
      "outputs": [
        {
          "output_type": "stream",
          "name": "stdout",
          "text": [
            "Training dataset shape features (21281, 121431)\n",
            "Training dataset shape labels (21281,)\n",
            "Test dataset shape features (5321, 121431)\n",
            "Test dataset shape labels (5321,)\n"
          ]
        }
      ],
      "source": [
        "print('Training dataset shape features', X_train.shape)\n",
        "print('Training dataset shape labels', y_train.shape)\n",
        "print('Test dataset shape features', X_test.shape)\n",
        "print('Test dataset shape labels', y_test.shape)"
      ]
    },
    {
      "cell_type": "markdown",
      "metadata": {
        "tags": [],
        "id": "kHLJqS-j3Xm3"
      },
      "source": [
        "### Modeling"
      ]
    },
    {
      "cell_type": "code",
      "execution_count": 74,
      "metadata": {
        "id": "vEVtGOwR3Xm3"
      },
      "outputs": [],
      "source": [
        "from sklearn.metrics import f1_score\n",
        "from sklearn.metrics import accuracy_score"
      ]
    },
    {
      "cell_type": "markdown",
      "metadata": {
        "id": "Es91YVqk3Xm3"
      },
      "source": [
        "I import some metrics to know how good my models behave. As the default distribution of my data is unbalanced I'll use **f1** score as the trusted metric estimator"
      ]
    },
    {
      "cell_type": "code",
      "execution_count": 75,
      "metadata": {
        "id": "2f2cM2ZP3Xm3"
      },
      "outputs": [],
      "source": [
        "from sklearn.model_selection import RandomizedSearchCV"
      ]
    },
    {
      "cell_type": "markdown",
      "metadata": {
        "id": "6Gy9SNi43Xm3"
      },
      "source": [
        "Because I rather work with Jupyterlab instead of Google Collab and I need my machine I'll use RandomizedSearchCV instead of GridSearchCV in order to pick random params and accelerate the train process. I also lower the CV validations splits to 3 instead of 5 which is the default."
      ]
    },
    {
      "cell_type": "code",
      "execution_count": 76,
      "metadata": {
        "id": "QqCxs3VV3Xm4"
      },
      "outputs": [],
      "source": [
        "from sklearn.model_selection import train_test_split\n",
        "\n",
        "X_train, X_test, y_train, y_test = train_test_split(\n",
        "    X, y, test_size=0.2, random_state=42, stratify=y.to_numpy())"
      ]
    },
    {
      "cell_type": "markdown",
      "metadata": {
        "id": "PSTvlE0n3Xm4"
      },
      "source": [
        "I use the 20% of the original sample to make the test. The splited samples are not randomly, it uses stratify mechanism as we know that the data is a litte biassed, because we have more samples of non-sarcastic quotes. If I do this, I force that the distribution in the test samples follow this rule"
      ]
    },
    {
      "cell_type": "code",
      "execution_count": 77,
      "metadata": {
        "id": "NMrH0lcI3Xm4"
      },
      "outputs": [],
      "source": [
        "# confusion matrix\n",
        "import matplotlib.pyplot as plt\n",
        "from sklearn.metrics import confusion_matrix, ConfusionMatrixDisplay\n",
        "\n",
        "def plot_confusion_matrix(y_test, predictions, classes):\n",
        "    cm = confusion_matrix(y_test, predictions, labels=classes)\n",
        "    disp = ConfusionMatrixDisplay(confusion_matrix=cm,\n",
        "                                  display_labels=classes)\n",
        "    disp.plot()\n",
        "    plt.show()"
      ]
    },
    {
      "cell_type": "markdown",
      "metadata": {
        "id": "pY8RxEe83Xm4"
      },
      "source": [
        "AUC–ROC curve is the model selection metric for bi–multi class classification problem. \n",
        "ROC is a probability curve for different classes. ROC tells us how good the model is \n",
        "for distinguishing the given classes, in terms of the predicted probability.\n",
        "The area covered by the curve is the area between the orange line (ROC) and the axis. \n",
        "This area covered is AUC. The bigger the area covered, the better the machine learning models is at distinguishing the given classes. \n",
        "ideal value for AUC is 1."
      ]
    },
    {
      "cell_type": "code",
      "execution_count": 78,
      "metadata": {
        "id": "ujkhg-_63Xm4"
      },
      "outputs": [],
      "source": [
        "def plot_roc_curve(pipe, X_test, y_test):\n",
        "    from sklearn.metrics import RocCurveDisplay\n",
        "    _ = RocCurveDisplay.from_estimator(pipe, X_test, y_test)"
      ]
    },
    {
      "cell_type": "code",
      "execution_count": 79,
      "metadata": {
        "id": "7zK2EmMZ3Xm5"
      },
      "outputs": [],
      "source": [
        "# Here I some information from different models\n",
        "M = {}"
      ]
    },
    {
      "cell_type": "markdown",
      "metadata": {
        "id": "zAOs5vDx3Xm5"
      },
      "source": [
        "### Naive Bayes"
      ]
    },
    {
      "cell_type": "markdown",
      "metadata": {
        "id": "XFX7uQfp3Xm5"
      },
      "source": [
        "There are two variants of Naive Bayes model that are suitable to use in text classification problems\n",
        "\n",
        "- [Multinomial Naive Bayes](https://scikit-learn.org/stable/modules/naive_bayes.html#multinomial-naive-bayes)\n",
        "- [Complement Naive Bayes](https://scikit-learn.org/stable/modules/naive_bayes.html#complement-naive-bayes)"
      ]
    },
    {
      "cell_type": "markdown",
      "metadata": {
        "id": "onqRSXmC3Xm5"
      },
      "source": [
        "#### Multinomial NB"
      ]
    },
    {
      "cell_type": "code",
      "execution_count": 80,
      "metadata": {
        "id": "NDnue4Ua3Xm5",
        "outputId": "f15b9c95-cb8b-4d33-a2ee-97abb2c5fa35",
        "colab": {
          "base_uri": "https://localhost:8080/"
        }
      },
      "outputs": [
        {
          "output_type": "stream",
          "name": "stdout",
          "text": [
            "CV trainning took:  283.49  seconds\n"
          ]
        }
      ],
      "source": [
        "from sklearn.naive_bayes import MultinomialNB\n",
        "\n",
        "pipe = Pipeline([\n",
        "    ('preprocessor', preprocessor),\n",
        "    ('mnb', MultinomialNB())\n",
        "])\n",
        "\n",
        "grid_params = {\n",
        "  'mnb__alpha': np.linspace(0.5, 1.5, 10),\n",
        "  'mnb__fit_prior': [True, False],  \n",
        "}\n",
        "start=time()\n",
        "rsp = RandomizedSearchCV(\n",
        "    pipe, \n",
        "    grid_params, \n",
        "    random_state = 74, \n",
        "    cv = 3,\n",
        "    scoring = 'f1'\n",
        ")\n",
        "rsp.fit(X_train, y_train)\n",
        "elapsed = time() - start\n",
        "print(\"CV trainning took: \", round(elapsed, 2), \" seconds\")"
      ]
    },
    {
      "cell_type": "code",
      "execution_count": 81,
      "metadata": {
        "id": "lp3MtEzW3Xm5",
        "outputId": "71c29ae7-15ab-4f98-cc03-feebab2fde2b",
        "colab": {
          "base_uri": "https://localhost:8080/"
        }
      },
      "outputs": [
        {
          "output_type": "stream",
          "name": "stdout",
          "text": [
            "Best Params:  {'mnb__fit_prior': False, 'mnb__alpha': 0.5}\n",
            "Best Estimator:  Pipeline(steps=[('preprocessor',\n",
            "                 ColumnTransformer(transformers=[('tf2',\n",
            "                                                  Pipeline(steps=[('denoiser',\n",
            "                                                                   TextDenoiser()),\n",
            "                                                                  ('ct',\n",
            "                                                                   ColumnTransformer(transformers=[('v',\n",
            "                                                                                                    CountVectorizer(dtype='int32',\n",
            "                                                                                                                    ngram_range=(1,\n",
            "                                                                                                                                 2)),\n",
            "                                                                                                    0)]))]),\n",
            "                                                  ['headline'])])),\n",
            "                ('mnb', MultinomialNB(alpha=0.5, fit_prior=False))])\n"
          ]
        }
      ],
      "source": [
        "print(\"Best Params: \", rsp.best_params_)\n",
        "print(\"Best Estimator: \", rsp.best_estimator_)"
      ]
    },
    {
      "cell_type": "code",
      "execution_count": 82,
      "metadata": {
        "id": "9wqM0i3F3Xm5",
        "outputId": "1070c635-ef65-4622-8cf1-622502beda0d",
        "colab": {
          "base_uri": "https://localhost:8080/",
          "height": 285
        }
      },
      "outputs": [
        {
          "output_type": "display_data",
          "data": {
            "text/plain": [
              "<Figure size 432x288 with 2 Axes>"
            ],
            "image/png": "[encoded data removed]"
          },
          "metadata": {}
        }
      ],
      "source": [
        "pipe = rsp.best_estimator_\n",
        "y_pred = pipe.predict(X_test)\n",
        "plot_confusion_matrix(y_test, y_pred, pipe.classes_)"
      ]
    },
    {
      "cell_type": "code",
      "execution_count": 83,
      "metadata": {
        "id": "4XjqLnnO3Xm5",
        "outputId": "2318366c-5075-4e4f-b190-88987739954d",
        "colab": {
          "base_uri": "https://localhost:8080/",
          "height": 285
        }
      },
      "outputs": [
        {
          "output_type": "display_data",
          "data": {
            "text/plain": [
              "<Figure size 432x288 with 1 Axes>"
            ],
            "image/png": "[encoded data removed]"
          },
          "metadata": {}
        }
      ],
      "source": [
        "plot_roc_curve(pipe, X_test, y_test)"
      ]
    },
    {
      "cell_type": "code",
      "execution_count": 84,
      "metadata": {
        "id": "RDaEMjsF3Xm6",
        "outputId": "bbac643a-8063-4a97-f47b-482cd14a427b",
        "colab": {
          "base_uri": "https://localhost:8080/"
        }
      },
      "outputs": [
        {
          "output_type": "stream",
          "name": "stdout",
          "text": [
            "f1 score:  77.09%\n",
            "accuracy:  79.85%\n"
          ]
        }
      ],
      "source": [
        "f1 = f1_score(y_test, y_pred)\n",
        "accuracy = accuracy_score(y_test, y_pred)\n",
        "print('f1 score: ', '{}%'.format(round(f1 * 100, 2)))\n",
        "print('accuracy: ', '{}%'.format(round(accuracy * 100, 2)))"
      ]
    },
    {
      "cell_type": "code",
      "execution_count": 85,
      "metadata": {
        "id": "-0FSpOpO3Xm6"
      },
      "outputs": [],
      "source": [
        "M['multinomial_nb'] = {\n",
        "    'best_params': rsp.best_params_,\n",
        "    'best_estimator': rsp.best_estimator_,\n",
        "    'trainning_time': elapsed,\n",
        "    'f1_score': f1,\n",
        "    'accuracy': accuracy\n",
        "}"
      ]
    },
    {
      "cell_type": "markdown",
      "metadata": {
        "id": "Z6ywhn043Xm6"
      },
      "source": [
        "#### Complement NB"
      ]
    },
    {
      "cell_type": "code",
      "execution_count": 86,
      "metadata": {
        "id": "1kHvvnoJ3Xm6",
        "outputId": "b6579917-2627-40af-ad72-c231a82176fd",
        "colab": {
          "base_uri": "https://localhost:8080/"
        }
      },
      "outputs": [
        {
          "output_type": "stream",
          "name": "stdout",
          "text": [
            "CV trainning took:  280.25  seconds\n"
          ]
        }
      ],
      "source": [
        "from sklearn.naive_bayes import ComplementNB\n",
        "pipe = Pipeline([\n",
        "    ('preprocessor', preprocessor),\n",
        "    ('cnb', ComplementNB())\n",
        "])\n",
        "\n",
        "grid_params = {\n",
        "  'cnb__alpha': np.linspace(0.5, 1.5, 10),\n",
        "  'cnb__fit_prior': [True, False],\n",
        "  'cnb__norm': [True, False],  \n",
        "}\n",
        "start=time()\n",
        "rsp = RandomizedSearchCV(\n",
        "    pipe, \n",
        "    grid_params, \n",
        "    random_state = 74, \n",
        "    cv = 3,\n",
        "    scoring = 'f1'\n",
        ")\n",
        "rsp.fit(X_train, y_train)\n",
        "elapsed = time() - start\n",
        "print(\"CV trainning took: \", round(elapsed, 2), \" seconds\")"
      ]
    },
    {
      "cell_type": "code",
      "execution_count": 87,
      "metadata": {
        "id": "CcDd51G_3Xm6",
        "outputId": "b5e29397-a3b5-4721-e8bd-13564d10f96c",
        "colab": {
          "base_uri": "https://localhost:8080/"
        }
      },
      "outputs": [
        {
          "output_type": "stream",
          "name": "stdout",
          "text": [
            "Best Params:  {'cnb__norm': False, 'cnb__fit_prior': False, 'cnb__alpha': 1.0555555555555556}\n",
            "Best Estimator:  Pipeline(steps=[('preprocessor',\n",
            "                 ColumnTransformer(transformers=[('tf2',\n",
            "                                                  Pipeline(steps=[('denoiser',\n",
            "                                                                   TextDenoiser()),\n",
            "                                                                  ('ct',\n",
            "                                                                   ColumnTransformer(transformers=[('v',\n",
            "                                                                                                    CountVectorizer(dtype='int32',\n",
            "                                                                                                                    ngram_range=(1,\n",
            "                                                                                                                                 2)),\n",
            "                                                                                                    0)]))]),\n",
            "                                                  ['headline'])])),\n",
            "                ('cnb',\n",
            "                 ComplementNB(alpha=1.0555555555555556, fit_prior=False))])\n"
          ]
        }
      ],
      "source": [
        "print(\"Best Params: \", rsp.best_params_)\n",
        "print(\"Best Estimator: \", rsp.best_estimator_)"
      ]
    },
    {
      "cell_type": "code",
      "execution_count": 88,
      "metadata": {
        "id": "vEVscQ1f3Xm6",
        "outputId": "5526870a-56e4-434f-e529-a356860b1019",
        "colab": {
          "base_uri": "https://localhost:8080/",
          "height": 285
        }
      },
      "outputs": [
        {
          "output_type": "display_data",
          "data": {
            "text/plain": [
              "<Figure size 432x288 with 2 Axes>"
            ],
            "image/png": "[encoded data removed]"
          },
          "metadata": {}
        }
      ],
      "source": [
        "pipe = rsp.best_estimator_\n",
        "y_pred = pipe.predict(X_test)\n",
        "plot_confusion_matrix(y_test, y_pred, pipe.classes_)"
      ]
    },
    {
      "cell_type": "code",
      "execution_count": 89,
      "metadata": {
        "id": "HRz-Pme13Xm6",
        "outputId": "e824c868-4569-4a53-991b-6fc9a0da9a8c",
        "colab": {
          "base_uri": "https://localhost:8080/",
          "height": 285
        }
      },
      "outputs": [
        {
          "output_type": "display_data",
          "data": {
            "text/plain": [
              "<Figure size 432x288 with 1 Axes>"
            ],
            "image/png": "[encoded data removed]"
          },
          "metadata": {}
        }
      ],
      "source": [
        "plot_roc_curve(pipe, X_test, y_test)"
      ]
    },
    {
      "cell_type": "code",
      "execution_count": 90,
      "metadata": {
        "id": "5Cxu_arT3Xm6",
        "outputId": "6ec82d1b-90a9-4305-eb95-8b5654297e7a",
        "colab": {
          "base_uri": "https://localhost:8080/"
        }
      },
      "outputs": [
        {
          "output_type": "stream",
          "name": "stdout",
          "text": [
            "f1 score:  77.02%\n",
            "accuracy:  80.08%\n"
          ]
        }
      ],
      "source": [
        "f1 = f1_score(y_test, y_pred)\n",
        "accuracy = accuracy_score(y_test, y_pred)\n",
        "print('f1 score: ', '{}%'.format(round(f1 * 100, 2)))\n",
        "print('accuracy: ', '{}%'.format(round(accuracy * 100, 2)))"
      ]
    },
    {
      "cell_type": "code",
      "execution_count": 91,
      "metadata": {
        "id": "03HQ4cZ33Xm6"
      },
      "outputs": [],
      "source": [
        "M['complement_nb'] = {\n",
        "    'best_params': rsp.best_params_,\n",
        "    'best_estimator': rsp.best_estimator_,\n",
        "    'trainning_time': elapsed,\n",
        "    'f1_score': f1,\n",
        "    'accuracy': accuracy\n",
        "}"
      ]
    },
    {
      "cell_type": "markdown",
      "metadata": {
        "id": "ND8RvW6R3Xm7"
      },
      "source": [
        "### KNN"
      ]
    },
    {
      "cell_type": "code",
      "execution_count": 92,
      "metadata": {
        "id": "YjkMwEkN3Xm7",
        "outputId": "4396c177-9501-4c94-9fe0-7005bbbd5cab",
        "colab": {
          "base_uri": "https://localhost:8080/"
        }
      },
      "outputs": [
        {
          "output_type": "stream",
          "name": "stdout",
          "text": [
            "CV trainning took:  246.25  seconds\n"
          ]
        }
      ],
      "source": [
        "from sklearn.neighbors import KNeighborsClassifier\n",
        "\n",
        "pipe = Pipeline([\n",
        "    ('preprocessor', preprocessor),\n",
        "    ('knn', KNeighborsClassifier(n_jobs=-1))\n",
        "])\n",
        "\n",
        "grid_params = {\n",
        "  'knn__n_neighbors': list(range(1,4)),\n",
        "  'knn__weights': ('uniform', 'distance')\n",
        "}\n",
        "\n",
        "start=time()\n",
        "rsp = RandomizedSearchCV(\n",
        "    pipe, \n",
        "    grid_params, \n",
        "    random_state = 74, \n",
        "    cv = 3,\n",
        "    scoring = 'f1'\n",
        ")\n",
        "rsp.fit(X_train, y_train)\n",
        "elapsed = time() - start\n",
        "print(\"CV trainning took: \", round(elapsed, 2), \" seconds\")"
      ]
    },
    {
      "cell_type": "code",
      "execution_count": 93,
      "metadata": {
        "id": "fIs7iNNb3Xm7",
        "outputId": "5f15fa88-3999-4700-9dc2-48d7634e7177",
        "colab": {
          "base_uri": "https://localhost:8080/"
        }
      },
      "outputs": [
        {
          "output_type": "stream",
          "name": "stdout",
          "text": [
            "Best Params:  {'knn__weights': 'uniform', 'knn__n_neighbors': 1}\n",
            "Best Estimator:  Pipeline(steps=[('preprocessor',\n",
            "                 ColumnTransformer(transformers=[('tf2',\n",
            "                                                  Pipeline(steps=[('denoiser',\n",
            "                                                                   TextDenoiser()),\n",
            "                                                                  ('ct',\n",
            "                                                                   ColumnTransformer(transformers=[('v',\n",
            "                                                                                                    CountVectorizer(dtype='int32',\n",
            "                                                                                                                    ngram_range=(1,\n",
            "                                                                                                                                 2)),\n",
            "                                                                                                    0)]))]),\n",
            "                                                  ['headline'])])),\n",
            "                ('knn', KNeighborsClassifier(n_jobs=-1, n_neighbors=1))])\n"
          ]
        }
      ],
      "source": [
        "print(\"Best Params: \", rsp.best_params_)\n",
        "print(\"Best Estimator: \", rsp.best_estimator_)"
      ]
    },
    {
      "cell_type": "code",
      "execution_count": 94,
      "metadata": {
        "id": "VR7PvpV03Xm7",
        "outputId": "c18ea804-25a9-4bdb-a663-45046e43d972",
        "colab": {
          "base_uri": "https://localhost:8080/",
          "height": 285
        }
      },
      "outputs": [
        {
          "output_type": "display_data",
          "data": {
            "text/plain": [
              "<Figure size 432x288 with 2 Axes>"
            ],
            "image/png": "[encoded data removed]"
          },
          "metadata": {}
        }
      ],
      "source": [
        "pipe = rsp.best_estimator_\n",
        "y_pred = pipe.predict(X_test)\n",
        "plot_confusion_matrix(y_test, y_pred, pipe.classes_)"
      ]
    },
    {
      "cell_type": "code",
      "execution_count": 95,
      "metadata": {
        "id": "ZnXiNYDm3Xm7",
        "outputId": "7a1bf5cd-e624-4b26-d123-166b82fb858d",
        "colab": {
          "base_uri": "https://localhost:8080/",
          "height": 285
        }
      },
      "outputs": [
        {
          "output_type": "display_data",
          "data": {
            "text/plain": [
              "<Figure size 432x288 with 1 Axes>"
            ],
            "image/png": "[encoded data removed]"
          },
          "metadata": {}
        }
      ],
      "source": [
        "plot_roc_curve(pipe, X_test, y_test)"
      ]
    },
    {
      "cell_type": "code",
      "execution_count": 96,
      "metadata": {
        "id": "DrSw_2YX3Xm7",
        "outputId": "6925c12f-1cf8-4a60-bfee-61ec34f334f6",
        "colab": {
          "base_uri": "https://localhost:8080/"
        }
      },
      "outputs": [
        {
          "output_type": "stream",
          "name": "stdout",
          "text": [
            "f1 score:  16.07%\n",
            "accuracy:  58.97%\n"
          ]
        }
      ],
      "source": [
        "f1 = f1_score(y_test, y_pred)\n",
        "accuracy = accuracy_score(y_test, y_pred)\n",
        "print('f1 score: ', '{}%'.format(round(f1 * 100, 2)))\n",
        "print('accuracy: ', '{}%'.format(round(accuracy * 100, 2)))"
      ]
    },
    {
      "cell_type": "code",
      "execution_count": 97,
      "metadata": {
        "id": "4Ik3vTvV3Xm7"
      },
      "outputs": [],
      "source": [
        "M['knn_classifier'] = {\n",
        "    'best_params': rsp.best_params_,\n",
        "    'best_estimator': rsp.best_estimator_,\n",
        "    'trainning_time': elapsed,\n",
        "    'f1_score': f1,\n",
        "    'accuracy': accuracy\n",
        "}"
      ]
    },
    {
      "cell_type": "markdown",
      "metadata": {
        "id": "RB2AdyrZ3Xm7"
      },
      "source": [
        "### SVM"
      ]
    },
    {
      "cell_type": "code",
      "execution_count": 98,
      "metadata": {
        "id": "8hxrNT5e3Xm7",
        "outputId": "812c5b11-bafd-4c1d-aa5b-4db56123346d",
        "colab": {
          "base_uri": "https://localhost:8080/"
        }
      },
      "outputs": [
        {
          "output_type": "stream",
          "name": "stdout",
          "text": [
            "CV trainning took:  1704.83  seconds\n"
          ]
        }
      ],
      "source": [
        "from sklearn.svm import SVC\n",
        "\n",
        "pipe = Pipeline([\n",
        "    ('preprocessor', preprocessor),\n",
        "    ('svc', SVC())\n",
        "])\n",
        "\n",
        "grid_params = {\n",
        "    'svc__C': list(range(1,7,2)),\n",
        "    'svc__kernel': ('linear', 'sigmoid'),\n",
        "}\n",
        "                   \n",
        "start=time()\n",
        "rsp = RandomizedSearchCV(\n",
        "    pipe, \n",
        "    grid_params, \n",
        "    random_state = 74, \n",
        "    cv = 3,\n",
        "    scoring = 'f1'\n",
        ")\n",
        "rsp.fit(X_train, y_train)\n",
        "elapsed = time() - start\n",
        "print(\"CV trainning took: \", round(elapsed, 2), \" seconds\")"
      ]
    },
    {
      "cell_type": "code",
      "execution_count": 99,
      "metadata": {
        "id": "G3Dr3q-k3Xm7",
        "outputId": "cb2552d5-ec89-4ce6-ec4e-4cad267ac45f",
        "colab": {
          "base_uri": "https://localhost:8080/"
        }
      },
      "outputs": [
        {
          "output_type": "stream",
          "name": "stdout",
          "text": [
            "Best Params:  {'svc__kernel': 'sigmoid', 'svc__C': 3}\n",
            "Best Estimator:  Pipeline(steps=[('preprocessor',\n",
            "                 ColumnTransformer(transformers=[('tf2',\n",
            "                                                  Pipeline(steps=[('denoiser',\n",
            "                                                                   TextDenoiser()),\n",
            "                                                                  ('ct',\n",
            "                                                                   ColumnTransformer(transformers=[('v',\n",
            "                                                                                                    CountVectorizer(dtype='int32',\n",
            "                                                                                                                    ngram_range=(1,\n",
            "                                                                                                                                 2)),\n",
            "                                                                                                    0)]))]),\n",
            "                                                  ['headline'])])),\n",
            "                ('svc', SVC(C=3, kernel='sigmoid'))])\n"
          ]
        }
      ],
      "source": [
        "print(\"Best Params: \", rsp.best_params_)\n",
        "print(\"Best Estimator: \", rsp.best_estimator_)"
      ]
    },
    {
      "cell_type": "code",
      "execution_count": 100,
      "metadata": {
        "id": "R_wsfOzM3Xm8",
        "outputId": "9e7898b7-69bc-41e3-b903-ae021c5a0488",
        "colab": {
          "base_uri": "https://localhost:8080/",
          "height": 285
        }
      },
      "outputs": [
        {
          "output_type": "display_data",
          "data": {
            "text/plain": [
              "<Figure size 432x288 with 2 Axes>"
            ],
            "image/png": "[encoded data removed]"
          },
          "metadata": {}
        }
      ],
      "source": [
        "pipe = rsp.best_estimator_\n",
        "y_pred = pipe.predict(X_test)\n",
        "plot_confusion_matrix(y_test, y_pred, pipe.classes_)"
      ]
    },
    {
      "cell_type": "code",
      "execution_count": 101,
      "metadata": {
        "id": "qZSDXLxo3Xm8",
        "outputId": "753dead3-fa55-44f2-a285-d81d03f2feb6",
        "colab": {
          "base_uri": "https://localhost:8080/",
          "height": 285
        }
      },
      "outputs": [
        {
          "output_type": "display_data",
          "data": {
            "text/plain": [
              "<Figure size 432x288 with 1 Axes>"
            ],
            "image/png": "[encoded data removed]"
          },
          "metadata": {}
        }
      ],
      "source": [
        "plot_roc_curve(pipe, X_test, y_test)"
      ]
    },
    {
      "cell_type": "code",
      "execution_count": 102,
      "metadata": {
        "id": "gf5Uvu9G3Xm8",
        "outputId": "5fc74bae-fd9b-497f-f939-040a0200de29",
        "colab": {
          "base_uri": "https://localhost:8080/"
        }
      },
      "outputs": [
        {
          "output_type": "stream",
          "name": "stdout",
          "text": [
            "f1 score:  75.72%\n",
            "accuracy:  79.59%\n"
          ]
        }
      ],
      "source": [
        "f1 = f1_score(y_test, y_pred)\n",
        "accuracy = accuracy_score(y_test, y_pred)\n",
        "print('f1 score: ', '{}%'.format(round(f1 * 100, 2)))\n",
        "print('accuracy: ', '{}%'.format(round(accuracy * 100, 2)))"
      ]
    },
    {
      "cell_type": "code",
      "execution_count": 103,
      "metadata": {
        "id": "IfNfWC2E3Xm8"
      },
      "outputs": [],
      "source": [
        "M['svm_classifier'] = {\n",
        "    'best_params': rsp.best_params_,\n",
        "    'best_estimator': rsp.best_estimator_,\n",
        "    'trainning_time': elapsed,\n",
        "    'f1_score': f1,\n",
        "    'accuracy': accuracy\n",
        "}"
      ]
    },
    {
      "cell_type": "markdown",
      "metadata": {
        "jp-MarkdownHeadingCollapsed": true,
        "tags": [],
        "id": "E1DYpDYX3Xm8"
      },
      "source": [
        "## 🧐 Conclusions <a class=\"anchor\" id=\"conclusions\"></a>"
      ]
    },
    {
      "cell_type": "code",
      "source": [
        "models = list(M.keys())\n",
        "training_time_for_models = [M[m]['trainning_time'] for m in models]\n",
        "f1_score_for_models = [M[m]['f1_score'] for m in models]\n",
        "accuracy_for_models = [M[m]['accuracy'] for m in models]\n",
        "\n",
        "df = pd.DataFrame(\n",
        "  {\n",
        "      'training_time': training_time_for_models,\n",
        "      'accuracy': accuracy_for_models,\n",
        "      'f1_score': f1_score_for_models\n",
        "  },\n",
        "  index = models\n",
        ")"
      ],
      "metadata": {
        "id": "eH0ycMPqDNpz"
      },
      "execution_count": 158,
      "outputs": []
    },
    {
      "cell_type": "markdown",
      "source": [
        "In the cell bellow we can see that "
      ],
      "metadata": {
        "id": "Amq9yP-OS81v"
      }
    },
    {
      "cell_type": "code",
      "source": [
        "fig, (ax1, ax2) = plt.subplots(1, 2, figsize=(20, 6))\n",
        "\n",
        "ax = sns.barplot(\n",
        "            data=df, \n",
        "            y=df.index, \n",
        "            x=df[\"accuracy\"],\n",
        "            capsize=.4,\n",
        "            linewidth=3, \n",
        "            edgecolor=\".5\", \n",
        "            facecolor=(0, 0, 0, 0),\n",
        "            ax=ax1)\n",
        "_ = ax.axes.set_xlim((0.55, 0.82))\n",
        "_ = ax.axes.set(xlabel =\"Accuracy (%)\")\n",
        "\n",
        "\n",
        "ax = sns.barplot(\n",
        "            data=df, \n",
        "            y=df.index, \n",
        "            x=df[\"accuracy\"] * 100,\n",
        "            capsize=.4,\n",
        "            linewidth=3, \n",
        "            edgecolor=\".5\", \n",
        "            facecolor=(0, 0, 0, 0),\n",
        "            ax=ax2)\n",
        "_ = ax.axes.set_xlim((55, 82))\n",
        "_ = ax.axes.set(xlabel =\"F1 score (%)\")"
      ],
      "metadata": {
        "id": "3VVpKUUbIFtw",
        "outputId": "ddffd3ae-ec1c-421d-f204-5ae98a2de976",
        "colab": {
          "base_uri": "https://localhost:8080/",
          "height": 394
        }
      },
      "execution_count": 214,
      "outputs": [
        {
          "output_type": "display_data",
          "data": {
            "text/plain": [
              "<Figure size 1440x432 with 2 Axes>"
            ],
            "image/png": "[encoded data removed]"
          },
          "metadata": {}
        }
      ]
    },
    {
      "cell_type": "code",
      "source": [
        "fig, (ax1, ax2) = plt.subplots(1, 2, figsize=(18, 6))\n",
        "\n",
        "ax = sns.scatterplot(\n",
        "    data=df, x=df[\"training_time\"] // 60,\n",
        "    y=df[\"accuracy\"] * 100,\n",
        "    hue=df.index,\n",
        "    marker=\"X\",\n",
        "    ax=ax1)\n",
        "ax = ax.axes.set(xlabel =\"Train time (m)\", ylabel = \"Accuracy (%)\")\n",
        "\n",
        "ax = sns.scatterplot(\n",
        "    data=df, x=df[\"training_time\"] // 60,\n",
        "    y=df[\"f1_score\"] * 100,\n",
        "    hue=df.index,\n",
        "    marker=\"X\",\n",
        "    ax=ax2)\n",
        "ax = ax.axes.set(xlabel =\"Train time (m)\", ylabel = \"F1 score (%)\")"
      ],
      "metadata": {
        "id": "3AyHvvsWLTyZ",
        "outputId": "fe90a20d-66a6-4142-856b-a14ea7798349",
        "colab": {
          "base_uri": "https://localhost:8080/",
          "height": 394
        }
      },
      "execution_count": 188,
      "outputs": [
        {
          "output_type": "display_data",
          "data": {
            "text/plain": [
              "<Figure size 1296x432 with 2 Axes>"
            ],
            "image/png": "[encoded data removed]"
          },
          "metadata": {}
        }
      ]
    }
  ],
  "metadata": {
    "colab": {
      "provenance": []
    },
    "kernelspec": {
      "display_name": "Python 3 (ipykernel)",
      "language": "python",
      "name": "python3"
    },
    "language_info": {
      "codemirror_mode": {
        "name": "ipython",
        "version": 3
      },
      "file_extension": ".py",
      "mimetype": "text/x-python",
      "name": "python",
      "nbconvert_exporter": "python",
      "pygments_lexer": "ipython3",
      "version": "3.10.6"
    },
    "toc-autonumbering": true,
    "toc-showmarkdowntxt": true,
    "vscode": {
      "interpreter": {
        "hash": "68c9c9443d441f167e7c83199f2148b0e20195f786a8a249f06e41ba8516d6d3"
      }
    }
  },
  "nbformat": 4,
  "nbformat_minor": 0
}